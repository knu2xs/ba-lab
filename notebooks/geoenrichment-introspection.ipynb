{
 "cells": [
  {
   "cell_type": "markdown",
   "metadata": {
    "slideshow": {
     "slide_type": "slide"
    }
   },
   "source": [
    "# Enrich Introspection\n",
    "\n",
    "Whether working with locally installed data or connected to a GIS object instance, the first step in performing data enrichment is figuring out what is possible, what you *can* do. This begins with figuring out which countries are available to you, and what variables are available in the country you are interested in working in."
   ]
  },
  {
   "cell_type": "code",
   "execution_count": 1,
   "metadata": {
    "slideshow": {
     "slide_type": "fragment"
    }
   },
   "outputs": [],
   "source": [
    "from arcgis.gis import GIS\n",
    "from arcgis.geoenrichment import Country, get_countries"
   ]
  },
  {
   "cell_type": "markdown",
   "metadata": {
    "slideshow": {
     "slide_type": "slide"
    },
    "tags": []
   },
   "source": [
    "## Discovering Countries\n",
    "\n",
    "Data enrichment is available across the entire ArcGIS Platform. As a result, there are a variety of data sources available both local and Web GIS. Local enrichment requires ArcGIS Pro with Business Analyst and local data to be installed. Enrichment with a Web GIS requires access to an ArcGIS Enterprise environment with Business Analyst or access to ArcGIS Online."
   ]
  },
  {
   "cell_type": "markdown",
   "metadata": {
    "slideshow": {
     "slide_type": "slide"
    },
    "tags": []
   },
   "source": [
    "If working in an environment with ArcGIS Pro with the Business Analyst extension and local data, you can explicitly specify this when discovering countries."
   ]
  },
  {
   "cell_type": "code",
   "execution_count": 2,
   "metadata": {
    "slideshow": {
     "slide_type": "fragment"
    },
    "tags": []
   },
   "outputs": [
    {
     "data": {
      "text/html": [
       "<div>\n",
       "<style scoped>\n",
       "    .dataframe tbody tr th:only-of-type {\n",
       "        vertical-align: middle;\n",
       "    }\n",
       "\n",
       "    .dataframe tbody tr th {\n",
       "        vertical-align: top;\n",
       "    }\n",
       "\n",
       "    .dataframe thead th {\n",
       "        text-align: right;\n",
       "    }\n",
       "</style>\n",
       "<table border=\"1\" class=\"dataframe\">\n",
       "  <thead>\n",
       "    <tr style=\"text-align: right;\">\n",
       "      <th></th>\n",
       "      <th>iso2</th>\n",
       "      <th>iso3</th>\n",
       "      <th>country_name</th>\n",
       "      <th>vintage</th>\n",
       "      <th>country_id</th>\n",
       "      <th>data_source_id</th>\n",
       "    </tr>\n",
       "  </thead>\n",
       "  <tbody>\n",
       "    <tr>\n",
       "      <th>0</th>\n",
       "      <td>CA</td>\n",
       "      <td>CAN</td>\n",
       "      <td>Canada</td>\n",
       "      <td>2020</td>\n",
       "      <td>CAN_ESRI_2019</td>\n",
       "      <td>LOCAL;;CAN_ESRI_2019</td>\n",
       "    </tr>\n",
       "    <tr>\n",
       "      <th>1</th>\n",
       "      <td>US</td>\n",
       "      <td>USA</td>\n",
       "      <td>United States</td>\n",
       "      <td>2019</td>\n",
       "      <td>USA_ESRI_2019</td>\n",
       "      <td>LOCAL;;USA_ESRI_2019</td>\n",
       "    </tr>\n",
       "    <tr>\n",
       "      <th>2</th>\n",
       "      <td>US</td>\n",
       "      <td>USA</td>\n",
       "      <td>United States</td>\n",
       "      <td>2020</td>\n",
       "      <td>USA_ESRI_2020</td>\n",
       "      <td>LOCAL;;USA_ESRI_2020</td>\n",
       "    </tr>\n",
       "  </tbody>\n",
       "</table>\n",
       "</div>"
      ],
      "text/plain": [
       "  iso2 iso3   country_name  vintage     country_id        data_source_id\n",
       "0   CA  CAN         Canada     2020  CAN_ESRI_2019  LOCAL;;CAN_ESRI_2019\n",
       "1   US  USA  United States     2019  USA_ESRI_2019  LOCAL;;USA_ESRI_2019\n",
       "2   US  USA  United States     2020  USA_ESRI_2020  LOCAL;;USA_ESRI_2020"
      ]
     },
     "execution_count": 2,
     "metadata": {},
     "output_type": "execute_result"
    }
   ],
   "source": [
    "get_countries('local')"
   ]
  },
  {
   "cell_type": "markdown",
   "metadata": {
    "slideshow": {
     "slide_type": "slide"
    },
    "tags": []
   },
   "source": [
    "The function is intelligent as well. If you do not explicitly set a source, the function first attempts to use local resources. If this is not possible, the function tries to utlize the `active_gis` a `GIS` object instance already instantiated in the session."
   ]
  },
  {
   "cell_type": "code",
   "execution_count": 3,
   "metadata": {
    "slideshow": {
     "slide_type": "fragment"
    },
    "tags": []
   },
   "outputs": [
    {
     "data": {
      "text/html": [
       "<div>\n",
       "<style scoped>\n",
       "    .dataframe tbody tr th:only-of-type {\n",
       "        vertical-align: middle;\n",
       "    }\n",
       "\n",
       "    .dataframe tbody tr th {\n",
       "        vertical-align: top;\n",
       "    }\n",
       "\n",
       "    .dataframe thead th {\n",
       "        text-align: right;\n",
       "    }\n",
       "</style>\n",
       "<table border=\"1\" class=\"dataframe\">\n",
       "  <thead>\n",
       "    <tr style=\"text-align: right;\">\n",
       "      <th></th>\n",
       "      <th>iso2</th>\n",
       "      <th>iso3</th>\n",
       "      <th>country_name</th>\n",
       "      <th>vintage</th>\n",
       "      <th>country_id</th>\n",
       "      <th>data_source_id</th>\n",
       "    </tr>\n",
       "  </thead>\n",
       "  <tbody>\n",
       "    <tr>\n",
       "      <th>0</th>\n",
       "      <td>CA</td>\n",
       "      <td>CAN</td>\n",
       "      <td>Canada</td>\n",
       "      <td>2020</td>\n",
       "      <td>CAN_ESRI_2019</td>\n",
       "      <td>LOCAL;;CAN_ESRI_2019</td>\n",
       "    </tr>\n",
       "    <tr>\n",
       "      <th>1</th>\n",
       "      <td>US</td>\n",
       "      <td>USA</td>\n",
       "      <td>United States</td>\n",
       "      <td>2019</td>\n",
       "      <td>USA_ESRI_2019</td>\n",
       "      <td>LOCAL;;USA_ESRI_2019</td>\n",
       "    </tr>\n",
       "    <tr>\n",
       "      <th>2</th>\n",
       "      <td>US</td>\n",
       "      <td>USA</td>\n",
       "      <td>United States</td>\n",
       "      <td>2020</td>\n",
       "      <td>USA_ESRI_2020</td>\n",
       "      <td>LOCAL;;USA_ESRI_2020</td>\n",
       "    </tr>\n",
       "  </tbody>\n",
       "</table>\n",
       "</div>"
      ],
      "text/plain": [
       "  iso2 iso3   country_name  vintage     country_id        data_source_id\n",
       "0   CA  CAN         Canada     2020  CAN_ESRI_2019  LOCAL;;CAN_ESRI_2019\n",
       "1   US  USA  United States     2019  USA_ESRI_2019  LOCAL;;USA_ESRI_2019\n",
       "2   US  USA  United States     2020  USA_ESRI_2020  LOCAL;;USA_ESRI_2020"
      ]
     },
     "execution_count": 3,
     "metadata": {},
     "output_type": "execute_result"
    }
   ],
   "source": [
    "get_countries()  # uses local since I have this environment configured"
   ]
  },
  {
   "cell_type": "markdown",
   "metadata": {
    "slideshow": {
     "slide_type": "slide"
    },
    "tags": []
   },
   "source": [
    "Both of these are overridden when explicitly passing in a source so it is possible to interrogate any source explicitly."
   ]
  },
  {
   "cell_type": "code",
   "execution_count": 4,
   "metadata": {
    "slideshow": {
     "slide_type": "fragment"
    },
    "tags": []
   },
   "outputs": [
    {
     "data": {
      "text/html": [
       "<div>\n",
       "<style scoped>\n",
       "    .dataframe tbody tr th:only-of-type {\n",
       "        vertical-align: middle;\n",
       "    }\n",
       "\n",
       "    .dataframe tbody tr th {\n",
       "        vertical-align: top;\n",
       "    }\n",
       "\n",
       "    .dataframe thead th {\n",
       "        text-align: right;\n",
       "    }\n",
       "</style>\n",
       "<table border=\"1\" class=\"dataframe\">\n",
       "  <thead>\n",
       "    <tr style=\"text-align: right;\">\n",
       "      <th></th>\n",
       "      <th>iso2</th>\n",
       "      <th>iso3</th>\n",
       "      <th>country_name</th>\n",
       "      <th>country_id</th>\n",
       "      <th>alt_name</th>\n",
       "      <th>continent</th>\n",
       "    </tr>\n",
       "  </thead>\n",
       "  <tbody>\n",
       "    <tr>\n",
       "      <th>0</th>\n",
       "      <td>AL</td>\n",
       "      <td>ALB</td>\n",
       "      <td>Albania</td>\n",
       "      <td>ALB_MBR_2019</td>\n",
       "      <td>ALBANIA</td>\n",
       "      <td>Europe</td>\n",
       "    </tr>\n",
       "    <tr>\n",
       "      <th>1</th>\n",
       "      <td>DZ</td>\n",
       "      <td>DZA</td>\n",
       "      <td>Algeria</td>\n",
       "      <td>DZA_MBR_2019</td>\n",
       "      <td>ALGERIA</td>\n",
       "      <td>Africa</td>\n",
       "    </tr>\n",
       "    <tr>\n",
       "      <th>2</th>\n",
       "      <td>AD</td>\n",
       "      <td>AND</td>\n",
       "      <td>Andorra</td>\n",
       "      <td>AND_MBR_2019</td>\n",
       "      <td>ANDORRA</td>\n",
       "      <td>Europe</td>\n",
       "    </tr>\n",
       "    <tr>\n",
       "      <th>3</th>\n",
       "      <td>AO</td>\n",
       "      <td>AGO</td>\n",
       "      <td>Angola</td>\n",
       "      <td>AGO_MBR_2019</td>\n",
       "      <td>ANGOLA</td>\n",
       "      <td>Africa</td>\n",
       "    </tr>\n",
       "    <tr>\n",
       "      <th>4</th>\n",
       "      <td>AR</td>\n",
       "      <td>ARG</td>\n",
       "      <td>Argentina</td>\n",
       "      <td>ARG_MBR_2020</td>\n",
       "      <td>ARGENTINA</td>\n",
       "      <td>South America</td>\n",
       "    </tr>\n",
       "    <tr>\n",
       "      <th>...</th>\n",
       "      <td>...</td>\n",
       "      <td>...</td>\n",
       "      <td>...</td>\n",
       "      <td>...</td>\n",
       "      <td>...</td>\n",
       "      <td>...</td>\n",
       "    </tr>\n",
       "    <tr>\n",
       "      <th>131</th>\n",
       "      <td>UY</td>\n",
       "      <td>URY</td>\n",
       "      <td>Uruguay</td>\n",
       "      <td>URY_MBR_2020</td>\n",
       "      <td>URUGUAY</td>\n",
       "      <td>South America</td>\n",
       "    </tr>\n",
       "    <tr>\n",
       "      <th>132</th>\n",
       "      <td>UZ</td>\n",
       "      <td>UZB</td>\n",
       "      <td>Uzbekistan</td>\n",
       "      <td>UZB_MBR_2020</td>\n",
       "      <td>UZBEKISTAN</td>\n",
       "      <td>Asia</td>\n",
       "    </tr>\n",
       "    <tr>\n",
       "      <th>133</th>\n",
       "      <td>VE</td>\n",
       "      <td>VEN</td>\n",
       "      <td>Venezuela</td>\n",
       "      <td>VEN_MBR_2020</td>\n",
       "      <td>VENEZUELA, BOLIVARIAN REPUBLIC OF</td>\n",
       "      <td>South America</td>\n",
       "    </tr>\n",
       "    <tr>\n",
       "      <th>134</th>\n",
       "      <td>VN</td>\n",
       "      <td>VNM</td>\n",
       "      <td>Vietnam</td>\n",
       "      <td>VNM_MBR_2020</td>\n",
       "      <td>VIET NAM</td>\n",
       "      <td>Asia</td>\n",
       "    </tr>\n",
       "    <tr>\n",
       "      <th>135</th>\n",
       "      <td>ZM</td>\n",
       "      <td>ZMB</td>\n",
       "      <td>Zambia</td>\n",
       "      <td>ZMB_MBR_2019</td>\n",
       "      <td>ZAMBIA</td>\n",
       "      <td>Africa</td>\n",
       "    </tr>\n",
       "  </tbody>\n",
       "</table>\n",
       "<p>136 rows × 6 columns</p>\n",
       "</div>"
      ],
      "text/plain": [
       "    iso2 iso3 country_name    country_id                           alt_name  \\\n",
       "0     AL  ALB      Albania  ALB_MBR_2019                            ALBANIA   \n",
       "1     DZ  DZA      Algeria  DZA_MBR_2019                            ALGERIA   \n",
       "2     AD  AND      Andorra  AND_MBR_2019                            ANDORRA   \n",
       "3     AO  AGO       Angola  AGO_MBR_2019                             ANGOLA   \n",
       "4     AR  ARG    Argentina  ARG_MBR_2020                          ARGENTINA   \n",
       "..   ...  ...          ...           ...                                ...   \n",
       "131   UY  URY      Uruguay  URY_MBR_2020                            URUGUAY   \n",
       "132   UZ  UZB   Uzbekistan  UZB_MBR_2020                         UZBEKISTAN   \n",
       "133   VE  VEN    Venezuela  VEN_MBR_2020  VENEZUELA, BOLIVARIAN REPUBLIC OF   \n",
       "134   VN  VNM      Vietnam  VNM_MBR_2020                           VIET NAM   \n",
       "135   ZM  ZMB       Zambia  ZMB_MBR_2019                             ZAMBIA   \n",
       "\n",
       "         continent  \n",
       "0           Europe  \n",
       "1           Africa  \n",
       "2           Europe  \n",
       "3           Africa  \n",
       "4    South America  \n",
       "..             ...  \n",
       "131  South America  \n",
       "132           Asia  \n",
       "133  South America  \n",
       "134           Asia  \n",
       "135         Africa  \n",
       "\n",
       "[136 rows x 6 columns]"
      ]
     },
     "execution_count": 4,
     "metadata": {},
     "output_type": "execute_result"
    }
   ],
   "source": [
    "gis = GIS()  # anonymous connection to ArcGIS Online\n",
    "get_countries(gis)"
   ]
  },
  {
   "cell_type": "markdown",
   "metadata": {
    "slideshow": {
     "slide_type": "slide"
    },
    "tags": []
   },
   "source": [
    "## Working in a Country\n",
    "\n",
    "Currently the `Country` object is how most data is organized in Business Analyst. Consequently, to enrich data, the first step is creating a `Country` object instance using a source."
   ]
  },
  {
   "cell_type": "code",
   "execution_count": 5,
   "metadata": {
    "slideshow": {
     "slide_type": "fragment"
    },
    "tags": []
   },
   "outputs": [
    {
     "data": {
      "text/plain": [
       "<Country - USA (GIS @ https://www.arcgis.com version:9.1) >"
      ]
     },
     "execution_count": 5,
     "metadata": {},
     "output_type": "execute_result"
    }
   ],
   "source": [
    "usa_gis = Country('USA', source=gis)\n",
    "\n",
    "usa_gis"
   ]
  },
  {
   "cell_type": "markdown",
   "metadata": {
    "slideshow": {
     "slide_type": "slide"
    },
    "tags": []
   },
   "source": [
    "A `Country` instance, just like with country discovery, tries to use local and then an active GIS instance. Since I have a local environment configured, it references local data for the most current year's data available (2020)."
   ]
  },
  {
   "cell_type": "code",
   "execution_count": 6,
   "metadata": {
    "slideshow": {
     "slide_type": "fragment"
    },
    "tags": []
   },
   "outputs": [
    {
     "data": {
      "text/plain": [
       "<Country - USA 2020 (local) >"
      ]
     },
     "execution_count": 6,
     "metadata": {},
     "output_type": "execute_result"
    }
   ],
   "source": [
    "usa_lcl = Country('USA')\n",
    "\n",
    "usa_lcl"
   ]
  },
  {
   "cell_type": "markdown",
   "metadata": {
    "slideshow": {
     "slide_type": "slide"
    },
    "tags": []
   },
   "source": [
    "With a local source, frequently due to modeling against older datasets, there is a need to explicitly access older data. This is supported using the `year` parameter."
   ]
  },
  {
   "cell_type": "code",
   "execution_count": 7,
   "metadata": {
    "slideshow": {
     "slide_type": "fragment"
    },
    "tags": []
   },
   "outputs": [
    {
     "data": {
      "text/plain": [
       "<Country - USA 2019 (local) >"
      ]
     },
     "execution_count": 7,
     "metadata": {},
     "output_type": "execute_result"
    }
   ],
   "source": [
    "usa_lcl_2019 = Country('USA', source='local', year=2019)\n",
    "\n",
    "usa_lcl_2019"
   ]
  },
  {
   "cell_type": "markdown",
   "metadata": {
    "slideshow": {
     "slide_type": "slide"
    },
    "tags": []
   },
   "source": [
    "## Enrich Variable Introspection\n",
    "\n",
    "Once a country is instantiated, data available for enrichment can be discovered. Whether the source is local or a GIS instance, the process is the same. Also, there are some differences in the specific columns returned based on the source due to differences in what is returned from the underlying interrogation methods."
   ]
  },
  {
   "cell_type": "code",
   "execution_count": 8,
   "metadata": {
    "slideshow": {
     "slide_type": "slide"
    },
    "tags": []
   },
   "outputs": [
    {
     "data": {
      "text/html": [
       "<div>\n",
       "<style scoped>\n",
       "    .dataframe tbody tr th:only-of-type {\n",
       "        vertical-align: middle;\n",
       "    }\n",
       "\n",
       "    .dataframe tbody tr th {\n",
       "        vertical-align: top;\n",
       "    }\n",
       "\n",
       "    .dataframe thead th {\n",
       "        text-align: right;\n",
       "    }\n",
       "</style>\n",
       "<table border=\"1\" class=\"dataframe\">\n",
       "  <thead>\n",
       "    <tr style=\"text-align: right;\">\n",
       "      <th></th>\n",
       "      <th>name</th>\n",
       "      <th>alias</th>\n",
       "      <th>data_collection</th>\n",
       "      <th>enrich_name</th>\n",
       "      <th>enrich_field_name</th>\n",
       "      <th>description</th>\n",
       "      <th>vintage</th>\n",
       "      <th>units</th>\n",
       "    </tr>\n",
       "  </thead>\n",
       "  <tbody>\n",
       "    <tr>\n",
       "      <th>0</th>\n",
       "      <td>AGE0_CY</td>\n",
       "      <td>2020 Population Age &lt;1</td>\n",
       "      <td>1yearincrements</td>\n",
       "      <td>1yearincrements.AGE0_CY</td>\n",
       "      <td>F1yearincrements_AGE0_CY</td>\n",
       "      <td>2020 Total Population Age &lt;1 (Esri)</td>\n",
       "      <td>2020</td>\n",
       "      <td>count</td>\n",
       "    </tr>\n",
       "    <tr>\n",
       "      <th>1</th>\n",
       "      <td>AGE1_CY</td>\n",
       "      <td>2020 Population Age 1</td>\n",
       "      <td>1yearincrements</td>\n",
       "      <td>1yearincrements.AGE1_CY</td>\n",
       "      <td>F1yearincrements_AGE1_CY</td>\n",
       "      <td>2020 Total Population Age 1 (Esri)</td>\n",
       "      <td>2020</td>\n",
       "      <td>count</td>\n",
       "    </tr>\n",
       "    <tr>\n",
       "      <th>2</th>\n",
       "      <td>AGE2_CY</td>\n",
       "      <td>2020 Population Age 2</td>\n",
       "      <td>1yearincrements</td>\n",
       "      <td>1yearincrements.AGE2_CY</td>\n",
       "      <td>F1yearincrements_AGE2_CY</td>\n",
       "      <td>2020 Total Population Age 2 (Esri)</td>\n",
       "      <td>2020</td>\n",
       "      <td>count</td>\n",
       "    </tr>\n",
       "    <tr>\n",
       "      <th>3</th>\n",
       "      <td>AGE3_CY</td>\n",
       "      <td>2020 Population Age 3</td>\n",
       "      <td>1yearincrements</td>\n",
       "      <td>1yearincrements.AGE3_CY</td>\n",
       "      <td>F1yearincrements_AGE3_CY</td>\n",
       "      <td>2020 Total Population Age 3 (Esri)</td>\n",
       "      <td>2020</td>\n",
       "      <td>count</td>\n",
       "    </tr>\n",
       "    <tr>\n",
       "      <th>4</th>\n",
       "      <td>AGE4_CY</td>\n",
       "      <td>2020 Population Age 4</td>\n",
       "      <td>1yearincrements</td>\n",
       "      <td>1yearincrements.AGE4_CY</td>\n",
       "      <td>F1yearincrements_AGE4_CY</td>\n",
       "      <td>2020 Total Population Age 4 (Esri)</td>\n",
       "      <td>2020</td>\n",
       "      <td>count</td>\n",
       "    </tr>\n",
       "    <tr>\n",
       "      <th>...</th>\n",
       "      <td>...</td>\n",
       "      <td>...</td>\n",
       "      <td>...</td>\n",
       "      <td>...</td>\n",
       "      <td>...</td>\n",
       "      <td>...</td>\n",
       "      <td>...</td>\n",
       "      <td>...</td>\n",
       "    </tr>\n",
       "    <tr>\n",
       "      <th>18394</th>\n",
       "      <td>MOEMEDYRMV</td>\n",
       "      <td>2019 Median Year Householder Moved In MOE (ACS...</td>\n",
       "      <td>yearmovedin</td>\n",
       "      <td>yearmovedin.MOEMEDYRMV</td>\n",
       "      <td>yearmovedin_MOEMEDYRMV</td>\n",
       "      <td>2019 Median Year Householder Moved into Unit M...</td>\n",
       "      <td>2015-2019</td>\n",
       "      <td>count</td>\n",
       "    </tr>\n",
       "    <tr>\n",
       "      <th>18395</th>\n",
       "      <td>RELMEDYRMV</td>\n",
       "      <td>2019 Median Year Householder Moved In REL (ACS...</td>\n",
       "      <td>yearmovedin</td>\n",
       "      <td>yearmovedin.RELMEDYRMV</td>\n",
       "      <td>yearmovedin_RELMEDYRMV</td>\n",
       "      <td>2019 Median Year Householder Moved into Unit R...</td>\n",
       "      <td>2015-2019</td>\n",
       "      <td>count</td>\n",
       "    </tr>\n",
       "    <tr>\n",
       "      <th>18396</th>\n",
       "      <td>ACSOWNER</td>\n",
       "      <td>2019 Owner Households (ACS 5-Yr)</td>\n",
       "      <td>yearmovedin</td>\n",
       "      <td>yearmovedin.ACSOWNER</td>\n",
       "      <td>yearmovedin_ACSOWNER</td>\n",
       "      <td>2019 Owner Households (ACS 5-Yr)</td>\n",
       "      <td>2015-2019</td>\n",
       "      <td>count</td>\n",
       "    </tr>\n",
       "    <tr>\n",
       "      <th>18397</th>\n",
       "      <td>MOEOWNER</td>\n",
       "      <td>2019 Owner Households MOE (ACS 5-Yr)</td>\n",
       "      <td>yearmovedin</td>\n",
       "      <td>yearmovedin.MOEOWNER</td>\n",
       "      <td>yearmovedin_MOEOWNER</td>\n",
       "      <td>2019 Owner Households MOE (ACS 5-Yr)</td>\n",
       "      <td>2015-2019</td>\n",
       "      <td>count</td>\n",
       "    </tr>\n",
       "    <tr>\n",
       "      <th>18398</th>\n",
       "      <td>RELOWNER</td>\n",
       "      <td>2019 Owner Households REL (ACS 5-Yr)</td>\n",
       "      <td>yearmovedin</td>\n",
       "      <td>yearmovedin.RELOWNER</td>\n",
       "      <td>yearmovedin_RELOWNER</td>\n",
       "      <td>2019 Owner Households REL (ACS 5-Yr)</td>\n",
       "      <td>2015-2019</td>\n",
       "      <td>count</td>\n",
       "    </tr>\n",
       "  </tbody>\n",
       "</table>\n",
       "<p>18399 rows × 8 columns</p>\n",
       "</div>"
      ],
      "text/plain": [
       "             name                                              alias  \\\n",
       "0         AGE0_CY                             2020 Population Age <1   \n",
       "1         AGE1_CY                              2020 Population Age 1   \n",
       "2         AGE2_CY                              2020 Population Age 2   \n",
       "3         AGE3_CY                              2020 Population Age 3   \n",
       "4         AGE4_CY                              2020 Population Age 4   \n",
       "...           ...                                                ...   \n",
       "18394  MOEMEDYRMV  2019 Median Year Householder Moved In MOE (ACS...   \n",
       "18395  RELMEDYRMV  2019 Median Year Householder Moved In REL (ACS...   \n",
       "18396    ACSOWNER                   2019 Owner Households (ACS 5-Yr)   \n",
       "18397    MOEOWNER               2019 Owner Households MOE (ACS 5-Yr)   \n",
       "18398    RELOWNER               2019 Owner Households REL (ACS 5-Yr)   \n",
       "\n",
       "       data_collection              enrich_name         enrich_field_name  \\\n",
       "0      1yearincrements  1yearincrements.AGE0_CY  F1yearincrements_AGE0_CY   \n",
       "1      1yearincrements  1yearincrements.AGE1_CY  F1yearincrements_AGE1_CY   \n",
       "2      1yearincrements  1yearincrements.AGE2_CY  F1yearincrements_AGE2_CY   \n",
       "3      1yearincrements  1yearincrements.AGE3_CY  F1yearincrements_AGE3_CY   \n",
       "4      1yearincrements  1yearincrements.AGE4_CY  F1yearincrements_AGE4_CY   \n",
       "...                ...                      ...                       ...   \n",
       "18394      yearmovedin   yearmovedin.MOEMEDYRMV    yearmovedin_MOEMEDYRMV   \n",
       "18395      yearmovedin   yearmovedin.RELMEDYRMV    yearmovedin_RELMEDYRMV   \n",
       "18396      yearmovedin     yearmovedin.ACSOWNER      yearmovedin_ACSOWNER   \n",
       "18397      yearmovedin     yearmovedin.MOEOWNER      yearmovedin_MOEOWNER   \n",
       "18398      yearmovedin     yearmovedin.RELOWNER      yearmovedin_RELOWNER   \n",
       "\n",
       "                                             description    vintage  units  \n",
       "0                    2020 Total Population Age <1 (Esri)       2020  count  \n",
       "1                     2020 Total Population Age 1 (Esri)       2020  count  \n",
       "2                     2020 Total Population Age 2 (Esri)       2020  count  \n",
       "3                     2020 Total Population Age 3 (Esri)       2020  count  \n",
       "4                     2020 Total Population Age 4 (Esri)       2020  count  \n",
       "...                                                  ...        ...    ...  \n",
       "18394  2019 Median Year Householder Moved into Unit M...  2015-2019  count  \n",
       "18395  2019 Median Year Householder Moved into Unit R...  2015-2019  count  \n",
       "18396                   2019 Owner Households (ACS 5-Yr)  2015-2019  count  \n",
       "18397               2019 Owner Households MOE (ACS 5-Yr)  2015-2019  count  \n",
       "18398               2019 Owner Households REL (ACS 5-Yr)  2015-2019  count  \n",
       "\n",
       "[18399 rows x 8 columns]"
      ]
     },
     "execution_count": 8,
     "metadata": {},
     "output_type": "execute_result"
    }
   ],
   "source": [
    "usa_gis.enrich_variables"
   ]
  },
  {
   "cell_type": "code",
   "execution_count": 9,
   "metadata": {
    "slideshow": {
     "slide_type": "slide"
    },
    "tags": []
   },
   "outputs": [
    {
     "data": {
      "text/html": [
       "<div>\n",
       "<style scoped>\n",
       "    .dataframe tbody tr th:only-of-type {\n",
       "        vertical-align: middle;\n",
       "    }\n",
       "\n",
       "    .dataframe tbody tr th {\n",
       "        vertical-align: top;\n",
       "    }\n",
       "\n",
       "    .dataframe thead th {\n",
       "        text-align: right;\n",
       "    }\n",
       "</style>\n",
       "<table border=\"1\" class=\"dataframe\">\n",
       "  <thead>\n",
       "    <tr style=\"text-align: right;\">\n",
       "      <th></th>\n",
       "      <th>name</th>\n",
       "      <th>alias</th>\n",
       "      <th>data_collection</th>\n",
       "      <th>enrich_name</th>\n",
       "      <th>enrich_field_name</th>\n",
       "    </tr>\n",
       "  </thead>\n",
       "  <tbody>\n",
       "    <tr>\n",
       "      <th>0</th>\n",
       "      <td>CHILD_CY</td>\n",
       "      <td>2020 Child Population</td>\n",
       "      <td>AgeDependency</td>\n",
       "      <td>AgeDependency.CHILD_CY</td>\n",
       "      <td>AgeDependency_CHILD_CY</td>\n",
       "    </tr>\n",
       "    <tr>\n",
       "      <th>1</th>\n",
       "      <td>WORKAGE_CY</td>\n",
       "      <td>2020 Working-Age Population</td>\n",
       "      <td>AgeDependency</td>\n",
       "      <td>AgeDependency.WORKAGE_CY</td>\n",
       "      <td>AgeDependency_WORKAGE_CY</td>\n",
       "    </tr>\n",
       "    <tr>\n",
       "      <th>2</th>\n",
       "      <td>SENIOR_CY</td>\n",
       "      <td>2020 Senior Population</td>\n",
       "      <td>AgeDependency</td>\n",
       "      <td>AgeDependency.SENIOR_CY</td>\n",
       "      <td>AgeDependency_SENIOR_CY</td>\n",
       "    </tr>\n",
       "    <tr>\n",
       "      <th>3</th>\n",
       "      <td>CHLDDEP_CY</td>\n",
       "      <td>2020 Child Dependency Ratio</td>\n",
       "      <td>AgeDependency</td>\n",
       "      <td>AgeDependency.CHLDDEP_CY</td>\n",
       "      <td>AgeDependency_CHLDDEP_CY</td>\n",
       "    </tr>\n",
       "    <tr>\n",
       "      <th>4</th>\n",
       "      <td>AGEDEP_CY</td>\n",
       "      <td>2020 Age Dependency Ratio</td>\n",
       "      <td>AgeDependency</td>\n",
       "      <td>AgeDependency.AGEDEP_CY</td>\n",
       "      <td>AgeDependency_AGEDEP_CY</td>\n",
       "    </tr>\n",
       "    <tr>\n",
       "      <th>...</th>\n",
       "      <td>...</td>\n",
       "      <td>...</td>\n",
       "      <td>...</td>\n",
       "      <td>...</td>\n",
       "      <td>...</td>\n",
       "    </tr>\n",
       "    <tr>\n",
       "      <th>16869</th>\n",
       "      <td>MOEMEDYRMV</td>\n",
       "      <td>2018 Median Year Householder Moved In MOE (ACS...</td>\n",
       "      <td>yearmovedin</td>\n",
       "      <td>yearmovedin.MOEMEDYRMV</td>\n",
       "      <td>yearmovedin_MOEMEDYRMV</td>\n",
       "    </tr>\n",
       "    <tr>\n",
       "      <th>16870</th>\n",
       "      <td>RELMEDYRMV</td>\n",
       "      <td>2018 Median Year Householder Moved In REL (ACS...</td>\n",
       "      <td>yearmovedin</td>\n",
       "      <td>yearmovedin.RELMEDYRMV</td>\n",
       "      <td>yearmovedin_RELMEDYRMV</td>\n",
       "    </tr>\n",
       "    <tr>\n",
       "      <th>16871</th>\n",
       "      <td>ACSOWNER</td>\n",
       "      <td>2018 Owner Households (ACS 5-Yr)</td>\n",
       "      <td>yearmovedin</td>\n",
       "      <td>yearmovedin.ACSOWNER</td>\n",
       "      <td>yearmovedin_ACSOWNER</td>\n",
       "    </tr>\n",
       "    <tr>\n",
       "      <th>16872</th>\n",
       "      <td>MOEOWNER</td>\n",
       "      <td>2018 Owner Households MOE (ACS 5-Yr)</td>\n",
       "      <td>yearmovedin</td>\n",
       "      <td>yearmovedin.MOEOWNER</td>\n",
       "      <td>yearmovedin_MOEOWNER</td>\n",
       "    </tr>\n",
       "    <tr>\n",
       "      <th>16873</th>\n",
       "      <td>RELOWNER</td>\n",
       "      <td>2018 Owner Households REL (ACS 5-Yr)</td>\n",
       "      <td>yearmovedin</td>\n",
       "      <td>yearmovedin.RELOWNER</td>\n",
       "      <td>yearmovedin_RELOWNER</td>\n",
       "    </tr>\n",
       "  </tbody>\n",
       "</table>\n",
       "<p>16874 rows × 5 columns</p>\n",
       "</div>"
      ],
      "text/plain": [
       "             name                                              alias  \\\n",
       "0        CHILD_CY                              2020 Child Population   \n",
       "1      WORKAGE_CY                        2020 Working-Age Population   \n",
       "2       SENIOR_CY                             2020 Senior Population   \n",
       "3      CHLDDEP_CY                        2020 Child Dependency Ratio   \n",
       "4       AGEDEP_CY                          2020 Age Dependency Ratio   \n",
       "...           ...                                                ...   \n",
       "16869  MOEMEDYRMV  2018 Median Year Householder Moved In MOE (ACS...   \n",
       "16870  RELMEDYRMV  2018 Median Year Householder Moved In REL (ACS...   \n",
       "16871    ACSOWNER                   2018 Owner Households (ACS 5-Yr)   \n",
       "16872    MOEOWNER               2018 Owner Households MOE (ACS 5-Yr)   \n",
       "16873    RELOWNER               2018 Owner Households REL (ACS 5-Yr)   \n",
       "\n",
       "      data_collection               enrich_name         enrich_field_name  \n",
       "0       AgeDependency    AgeDependency.CHILD_CY    AgeDependency_CHILD_CY  \n",
       "1       AgeDependency  AgeDependency.WORKAGE_CY  AgeDependency_WORKAGE_CY  \n",
       "2       AgeDependency   AgeDependency.SENIOR_CY   AgeDependency_SENIOR_CY  \n",
       "3       AgeDependency  AgeDependency.CHLDDEP_CY  AgeDependency_CHLDDEP_CY  \n",
       "4       AgeDependency   AgeDependency.AGEDEP_CY   AgeDependency_AGEDEP_CY  \n",
       "...               ...                       ...                       ...  \n",
       "16869     yearmovedin    yearmovedin.MOEMEDYRMV    yearmovedin_MOEMEDYRMV  \n",
       "16870     yearmovedin    yearmovedin.RELMEDYRMV    yearmovedin_RELMEDYRMV  \n",
       "16871     yearmovedin      yearmovedin.ACSOWNER      yearmovedin_ACSOWNER  \n",
       "16872     yearmovedin      yearmovedin.MOEOWNER      yearmovedin_MOEOWNER  \n",
       "16873     yearmovedin      yearmovedin.RELOWNER      yearmovedin_RELOWNER  \n",
       "\n",
       "[16874 rows x 5 columns]"
      ]
     },
     "execution_count": 9,
     "metadata": {},
     "output_type": "execute_result"
    }
   ],
   "source": [
    "usa_lcl.enrich_variables"
   ]
  },
  {
   "cell_type": "code",
   "execution_count": 10,
   "metadata": {
    "slideshow": {
     "slide_type": "slide"
    },
    "tags": []
   },
   "outputs": [
    {
     "data": {
      "text/html": [
       "<div>\n",
       "<style scoped>\n",
       "    .dataframe tbody tr th:only-of-type {\n",
       "        vertical-align: middle;\n",
       "    }\n",
       "\n",
       "    .dataframe tbody tr th {\n",
       "        vertical-align: top;\n",
       "    }\n",
       "\n",
       "    .dataframe thead th {\n",
       "        text-align: right;\n",
       "    }\n",
       "</style>\n",
       "<table border=\"1\" class=\"dataframe\">\n",
       "  <thead>\n",
       "    <tr style=\"text-align: right;\">\n",
       "      <th></th>\n",
       "      <th>name</th>\n",
       "      <th>alias</th>\n",
       "      <th>data_collection</th>\n",
       "      <th>enrich_name</th>\n",
       "      <th>enrich_field_name</th>\n",
       "    </tr>\n",
       "  </thead>\n",
       "  <tbody>\n",
       "    <tr>\n",
       "      <th>0</th>\n",
       "      <td>CHILD_CY</td>\n",
       "      <td>2020 Child Population</td>\n",
       "      <td>AgeDependency</td>\n",
       "      <td>AgeDependency.CHILD_CY</td>\n",
       "      <td>AgeDependency_CHILD_CY</td>\n",
       "    </tr>\n",
       "    <tr>\n",
       "      <th>1</th>\n",
       "      <td>WORKAGE_CY</td>\n",
       "      <td>2020 Working-Age Population</td>\n",
       "      <td>AgeDependency</td>\n",
       "      <td>AgeDependency.WORKAGE_CY</td>\n",
       "      <td>AgeDependency_WORKAGE_CY</td>\n",
       "    </tr>\n",
       "    <tr>\n",
       "      <th>2</th>\n",
       "      <td>SENIOR_CY</td>\n",
       "      <td>2020 Senior Population</td>\n",
       "      <td>AgeDependency</td>\n",
       "      <td>AgeDependency.SENIOR_CY</td>\n",
       "      <td>AgeDependency_SENIOR_CY</td>\n",
       "    </tr>\n",
       "    <tr>\n",
       "      <th>3</th>\n",
       "      <td>CHLDDEP_CY</td>\n",
       "      <td>2020 Child Dependency Ratio</td>\n",
       "      <td>AgeDependency</td>\n",
       "      <td>AgeDependency.CHLDDEP_CY</td>\n",
       "      <td>AgeDependency_CHLDDEP_CY</td>\n",
       "    </tr>\n",
       "    <tr>\n",
       "      <th>4</th>\n",
       "      <td>AGEDEP_CY</td>\n",
       "      <td>2020 Age Dependency Ratio</td>\n",
       "      <td>AgeDependency</td>\n",
       "      <td>AgeDependency.AGEDEP_CY</td>\n",
       "      <td>AgeDependency_AGEDEP_CY</td>\n",
       "    </tr>\n",
       "    <tr>\n",
       "      <th>...</th>\n",
       "      <td>...</td>\n",
       "      <td>...</td>\n",
       "      <td>...</td>\n",
       "      <td>...</td>\n",
       "      <td>...</td>\n",
       "    </tr>\n",
       "    <tr>\n",
       "      <th>16869</th>\n",
       "      <td>MOEMEDYRMV</td>\n",
       "      <td>2018 Median Year Householder Moved In MOE (ACS...</td>\n",
       "      <td>yearmovedin</td>\n",
       "      <td>yearmovedin.MOEMEDYRMV</td>\n",
       "      <td>yearmovedin_MOEMEDYRMV</td>\n",
       "    </tr>\n",
       "    <tr>\n",
       "      <th>16870</th>\n",
       "      <td>RELMEDYRMV</td>\n",
       "      <td>2018 Median Year Householder Moved In REL (ACS...</td>\n",
       "      <td>yearmovedin</td>\n",
       "      <td>yearmovedin.RELMEDYRMV</td>\n",
       "      <td>yearmovedin_RELMEDYRMV</td>\n",
       "    </tr>\n",
       "    <tr>\n",
       "      <th>16871</th>\n",
       "      <td>ACSOWNER</td>\n",
       "      <td>2018 Owner Households (ACS 5-Yr)</td>\n",
       "      <td>yearmovedin</td>\n",
       "      <td>yearmovedin.ACSOWNER</td>\n",
       "      <td>yearmovedin_ACSOWNER</td>\n",
       "    </tr>\n",
       "    <tr>\n",
       "      <th>16872</th>\n",
       "      <td>MOEOWNER</td>\n",
       "      <td>2018 Owner Households MOE (ACS 5-Yr)</td>\n",
       "      <td>yearmovedin</td>\n",
       "      <td>yearmovedin.MOEOWNER</td>\n",
       "      <td>yearmovedin_MOEOWNER</td>\n",
       "    </tr>\n",
       "    <tr>\n",
       "      <th>16873</th>\n",
       "      <td>RELOWNER</td>\n",
       "      <td>2018 Owner Households REL (ACS 5-Yr)</td>\n",
       "      <td>yearmovedin</td>\n",
       "      <td>yearmovedin.RELOWNER</td>\n",
       "      <td>yearmovedin_RELOWNER</td>\n",
       "    </tr>\n",
       "  </tbody>\n",
       "</table>\n",
       "<p>16874 rows × 5 columns</p>\n",
       "</div>"
      ],
      "text/plain": [
       "             name                                              alias  \\\n",
       "0        CHILD_CY                              2020 Child Population   \n",
       "1      WORKAGE_CY                        2020 Working-Age Population   \n",
       "2       SENIOR_CY                             2020 Senior Population   \n",
       "3      CHLDDEP_CY                        2020 Child Dependency Ratio   \n",
       "4       AGEDEP_CY                          2020 Age Dependency Ratio   \n",
       "...           ...                                                ...   \n",
       "16869  MOEMEDYRMV  2018 Median Year Householder Moved In MOE (ACS...   \n",
       "16870  RELMEDYRMV  2018 Median Year Householder Moved In REL (ACS...   \n",
       "16871    ACSOWNER                   2018 Owner Households (ACS 5-Yr)   \n",
       "16872    MOEOWNER               2018 Owner Households MOE (ACS 5-Yr)   \n",
       "16873    RELOWNER               2018 Owner Households REL (ACS 5-Yr)   \n",
       "\n",
       "      data_collection               enrich_name         enrich_field_name  \n",
       "0       AgeDependency    AgeDependency.CHILD_CY    AgeDependency_CHILD_CY  \n",
       "1       AgeDependency  AgeDependency.WORKAGE_CY  AgeDependency_WORKAGE_CY  \n",
       "2       AgeDependency   AgeDependency.SENIOR_CY   AgeDependency_SENIOR_CY  \n",
       "3       AgeDependency  AgeDependency.CHLDDEP_CY  AgeDependency_CHLDDEP_CY  \n",
       "4       AgeDependency   AgeDependency.AGEDEP_CY   AgeDependency_AGEDEP_CY  \n",
       "...               ...                       ...                       ...  \n",
       "16869     yearmovedin    yearmovedin.MOEMEDYRMV    yearmovedin_MOEMEDYRMV  \n",
       "16870     yearmovedin    yearmovedin.RELMEDYRMV    yearmovedin_RELMEDYRMV  \n",
       "16871     yearmovedin      yearmovedin.ACSOWNER      yearmovedin_ACSOWNER  \n",
       "16872     yearmovedin      yearmovedin.MOEOWNER      yearmovedin_MOEOWNER  \n",
       "16873     yearmovedin      yearmovedin.RELOWNER      yearmovedin_RELOWNER  \n",
       "\n",
       "[16874 rows x 5 columns]"
      ]
     },
     "execution_count": 10,
     "metadata": {},
     "output_type": "execute_result"
    }
   ],
   "source": [
    "usa_lcl_2019.enrich_variables"
   ]
  },
  {
   "cell_type": "markdown",
   "metadata": {
    "slideshow": {
     "slide_type": "slide"
    },
    "tags": []
   },
   "source": [
    "### Usefulness of a DataFrame\n",
    "\n",
    "Since a Pandas DataFrame, this facilitates quick discovery of different variable combinations."
   ]
  },
  {
   "cell_type": "markdown",
   "metadata": {
    "slideshow": {
     "slide_type": "slide"
    },
    "tags": []
   },
   "source": [
    "#### Unique Variables\n",
    "\n",
    "Since variables can be repeated due to being used in multiple Data Collections, we can easily remove duplicates using the functionality of the DataFrame."
   ]
  },
  {
   "cell_type": "code",
   "execution_count": 11,
   "metadata": {
    "slideshow": {
     "slide_type": "fragment"
    },
    "tags": []
   },
   "outputs": [
    {
     "data": {
      "text/html": [
       "<div>\n",
       "<style scoped>\n",
       "    .dataframe tbody tr th:only-of-type {\n",
       "        vertical-align: middle;\n",
       "    }\n",
       "\n",
       "    .dataframe tbody tr th {\n",
       "        vertical-align: top;\n",
       "    }\n",
       "\n",
       "    .dataframe thead th {\n",
       "        text-align: right;\n",
       "    }\n",
       "</style>\n",
       "<table border=\"1\" class=\"dataframe\">\n",
       "  <thead>\n",
       "    <tr style=\"text-align: right;\">\n",
       "      <th></th>\n",
       "      <th>name</th>\n",
       "      <th>alias</th>\n",
       "      <th>data_collection</th>\n",
       "      <th>enrich_name</th>\n",
       "      <th>enrich_field_name</th>\n",
       "    </tr>\n",
       "  </thead>\n",
       "  <tbody>\n",
       "    <tr>\n",
       "      <th>0</th>\n",
       "      <td>CHILD_CY</td>\n",
       "      <td>2020 Child Population</td>\n",
       "      <td>AgeDependency</td>\n",
       "      <td>AgeDependency.CHILD_CY</td>\n",
       "      <td>AgeDependency_CHILD_CY</td>\n",
       "    </tr>\n",
       "    <tr>\n",
       "      <th>1</th>\n",
       "      <td>WORKAGE_CY</td>\n",
       "      <td>2020 Working-Age Population</td>\n",
       "      <td>AgeDependency</td>\n",
       "      <td>AgeDependency.WORKAGE_CY</td>\n",
       "      <td>AgeDependency_WORKAGE_CY</td>\n",
       "    </tr>\n",
       "    <tr>\n",
       "      <th>2</th>\n",
       "      <td>SENIOR_CY</td>\n",
       "      <td>2020 Senior Population</td>\n",
       "      <td>AgeDependency</td>\n",
       "      <td>AgeDependency.SENIOR_CY</td>\n",
       "      <td>AgeDependency_SENIOR_CY</td>\n",
       "    </tr>\n",
       "    <tr>\n",
       "      <th>3</th>\n",
       "      <td>CHLDDEP_CY</td>\n",
       "      <td>2020 Child Dependency Ratio</td>\n",
       "      <td>AgeDependency</td>\n",
       "      <td>AgeDependency.CHLDDEP_CY</td>\n",
       "      <td>AgeDependency_CHLDDEP_CY</td>\n",
       "    </tr>\n",
       "    <tr>\n",
       "      <th>4</th>\n",
       "      <td>AGEDEP_CY</td>\n",
       "      <td>2020 Age Dependency Ratio</td>\n",
       "      <td>AgeDependency</td>\n",
       "      <td>AgeDependency.AGEDEP_CY</td>\n",
       "      <td>AgeDependency_AGEDEP_CY</td>\n",
       "    </tr>\n",
       "    <tr>\n",
       "      <th>...</th>\n",
       "      <td>...</td>\n",
       "      <td>...</td>\n",
       "      <td>...</td>\n",
       "      <td>...</td>\n",
       "      <td>...</td>\n",
       "    </tr>\n",
       "    <tr>\n",
       "      <th>14660</th>\n",
       "      <td>RELRMV1989</td>\n",
       "      <td>2018 RHHs/Moved In: 1989/Before REL (ACS 5-Yr)</td>\n",
       "      <td>yearmovedin</td>\n",
       "      <td>yearmovedin.RELRMV1989</td>\n",
       "      <td>yearmovedin_RELRMV1989</td>\n",
       "    </tr>\n",
       "    <tr>\n",
       "      <th>14661</th>\n",
       "      <td>ACSMEDYRMV</td>\n",
       "      <td>2018 Median Year Householder Moved In (ACS 5-Yr)</td>\n",
       "      <td>yearmovedin</td>\n",
       "      <td>yearmovedin.ACSMEDYRMV</td>\n",
       "      <td>yearmovedin_ACSMEDYRMV</td>\n",
       "    </tr>\n",
       "    <tr>\n",
       "      <th>14662</th>\n",
       "      <td>MOEMEDYRMV</td>\n",
       "      <td>2018 Median Year Householder Moved In MOE (ACS...</td>\n",
       "      <td>yearmovedin</td>\n",
       "      <td>yearmovedin.MOEMEDYRMV</td>\n",
       "      <td>yearmovedin_MOEMEDYRMV</td>\n",
       "    </tr>\n",
       "    <tr>\n",
       "      <th>14663</th>\n",
       "      <td>RELMEDYRMV</td>\n",
       "      <td>2018 Median Year Householder Moved In REL (ACS...</td>\n",
       "      <td>yearmovedin</td>\n",
       "      <td>yearmovedin.RELMEDYRMV</td>\n",
       "      <td>yearmovedin_RELMEDYRMV</td>\n",
       "    </tr>\n",
       "    <tr>\n",
       "      <th>14664</th>\n",
       "      <td>RELOWNER</td>\n",
       "      <td>2018 Owner Households REL (ACS 5-Yr)</td>\n",
       "      <td>yearmovedin</td>\n",
       "      <td>yearmovedin.RELOWNER</td>\n",
       "      <td>yearmovedin_RELOWNER</td>\n",
       "    </tr>\n",
       "  </tbody>\n",
       "</table>\n",
       "<p>14665 rows × 5 columns</p>\n",
       "</div>"
      ],
      "text/plain": [
       "             name                                              alias  \\\n",
       "0        CHILD_CY                              2020 Child Population   \n",
       "1      WORKAGE_CY                        2020 Working-Age Population   \n",
       "2       SENIOR_CY                             2020 Senior Population   \n",
       "3      CHLDDEP_CY                        2020 Child Dependency Ratio   \n",
       "4       AGEDEP_CY                          2020 Age Dependency Ratio   \n",
       "...           ...                                                ...   \n",
       "14660  RELRMV1989     2018 RHHs/Moved In: 1989/Before REL (ACS 5-Yr)   \n",
       "14661  ACSMEDYRMV   2018 Median Year Householder Moved In (ACS 5-Yr)   \n",
       "14662  MOEMEDYRMV  2018 Median Year Householder Moved In MOE (ACS...   \n",
       "14663  RELMEDYRMV  2018 Median Year Householder Moved In REL (ACS...   \n",
       "14664    RELOWNER               2018 Owner Households REL (ACS 5-Yr)   \n",
       "\n",
       "      data_collection               enrich_name         enrich_field_name  \n",
       "0       AgeDependency    AgeDependency.CHILD_CY    AgeDependency_CHILD_CY  \n",
       "1       AgeDependency  AgeDependency.WORKAGE_CY  AgeDependency_WORKAGE_CY  \n",
       "2       AgeDependency   AgeDependency.SENIOR_CY   AgeDependency_SENIOR_CY  \n",
       "3       AgeDependency  AgeDependency.CHLDDEP_CY  AgeDependency_CHLDDEP_CY  \n",
       "4       AgeDependency   AgeDependency.AGEDEP_CY   AgeDependency_AGEDEP_CY  \n",
       "...               ...                       ...                       ...  \n",
       "14660     yearmovedin    yearmovedin.RELRMV1989    yearmovedin_RELRMV1989  \n",
       "14661     yearmovedin    yearmovedin.ACSMEDYRMV    yearmovedin_ACSMEDYRMV  \n",
       "14662     yearmovedin    yearmovedin.MOEMEDYRMV    yearmovedin_MOEMEDYRMV  \n",
       "14663     yearmovedin    yearmovedin.RELMEDYRMV    yearmovedin_RELMEDYRMV  \n",
       "14664     yearmovedin      yearmovedin.RELOWNER      yearmovedin_RELOWNER  \n",
       "\n",
       "[14665 rows x 5 columns]"
      ]
     },
     "execution_count": 11,
     "metadata": {},
     "output_type": "execute_result"
    }
   ],
   "source": [
    "usa_lcl.enrich_variables.drop_duplicates('name').reset_index(drop=True)"
   ]
  },
  {
   "cell_type": "markdown",
   "metadata": {
    "slideshow": {
     "slide_type": "slide"
    },
    "tags": []
   },
   "source": [
    "#### Unique Current Year Variables\n",
    "\n",
    "One of the things I like to do is grab all the current year demographics. Due to the naming convention, all of these variables' names end with `CY`. This enables us to quickly find them."
   ]
  },
  {
   "cell_type": "code",
   "execution_count": 12,
   "metadata": {
    "slideshow": {
     "slide_type": "fragment"
    },
    "tags": []
   },
   "outputs": [
    {
     "data": {
      "text/html": [
       "<div>\n",
       "<style scoped>\n",
       "    .dataframe tbody tr th:only-of-type {\n",
       "        vertical-align: middle;\n",
       "    }\n",
       "\n",
       "    .dataframe tbody tr th {\n",
       "        vertical-align: top;\n",
       "    }\n",
       "\n",
       "    .dataframe thead th {\n",
       "        text-align: right;\n",
       "    }\n",
       "</style>\n",
       "<table border=\"1\" class=\"dataframe\">\n",
       "  <thead>\n",
       "    <tr style=\"text-align: right;\">\n",
       "      <th></th>\n",
       "      <th>name</th>\n",
       "      <th>alias</th>\n",
       "      <th>data_collection</th>\n",
       "      <th>enrich_name</th>\n",
       "      <th>enrich_field_name</th>\n",
       "    </tr>\n",
       "  </thead>\n",
       "  <tbody>\n",
       "    <tr>\n",
       "      <th>0</th>\n",
       "      <td>CHILD_CY</td>\n",
       "      <td>2020 Child Population</td>\n",
       "      <td>AgeDependency</td>\n",
       "      <td>AgeDependency.CHILD_CY</td>\n",
       "      <td>AgeDependency_CHILD_CY</td>\n",
       "    </tr>\n",
       "    <tr>\n",
       "      <th>1</th>\n",
       "      <td>WORKAGE_CY</td>\n",
       "      <td>2020 Working-Age Population</td>\n",
       "      <td>AgeDependency</td>\n",
       "      <td>AgeDependency.WORKAGE_CY</td>\n",
       "      <td>AgeDependency_WORKAGE_CY</td>\n",
       "    </tr>\n",
       "    <tr>\n",
       "      <th>2</th>\n",
       "      <td>SENIOR_CY</td>\n",
       "      <td>2020 Senior Population</td>\n",
       "      <td>AgeDependency</td>\n",
       "      <td>AgeDependency.SENIOR_CY</td>\n",
       "      <td>AgeDependency_SENIOR_CY</td>\n",
       "    </tr>\n",
       "    <tr>\n",
       "      <th>3</th>\n",
       "      <td>CHLDDEP_CY</td>\n",
       "      <td>2020 Child Dependency Ratio</td>\n",
       "      <td>AgeDependency</td>\n",
       "      <td>AgeDependency.CHLDDEP_CY</td>\n",
       "      <td>AgeDependency_CHLDDEP_CY</td>\n",
       "    </tr>\n",
       "    <tr>\n",
       "      <th>4</th>\n",
       "      <td>AGEDEP_CY</td>\n",
       "      <td>2020 Age Dependency Ratio</td>\n",
       "      <td>AgeDependency</td>\n",
       "      <td>AgeDependency.AGEDEP_CY</td>\n",
       "      <td>AgeDependency_AGEDEP_CY</td>\n",
       "    </tr>\n",
       "    <tr>\n",
       "      <th>...</th>\n",
       "      <td>...</td>\n",
       "      <td>...</td>\n",
       "      <td>...</td>\n",
       "      <td>...</td>\n",
       "      <td>...</td>\n",
       "    </tr>\n",
       "    <tr>\n",
       "      <th>1318</th>\n",
       "      <td>NHSPASN_CY</td>\n",
       "      <td>2020 Non-Hispanic Asian Pop</td>\n",
       "      <td>raceandhispanicorigin</td>\n",
       "      <td>raceandhispanicorigin.NHSPASN_CY</td>\n",
       "      <td>raceandhispanicorigin_NHSPASN_CY</td>\n",
       "    </tr>\n",
       "    <tr>\n",
       "      <th>1319</th>\n",
       "      <td>NHSPPI_CY</td>\n",
       "      <td>2020 Non-Hispanic Pacific Islander Pop</td>\n",
       "      <td>raceandhispanicorigin</td>\n",
       "      <td>raceandhispanicorigin.NHSPPI_CY</td>\n",
       "      <td>raceandhispanicorigin_NHSPPI_CY</td>\n",
       "    </tr>\n",
       "    <tr>\n",
       "      <th>1320</th>\n",
       "      <td>NHSPOTH_CY</td>\n",
       "      <td>2020 Non-Hispanic Other Race Pop</td>\n",
       "      <td>raceandhispanicorigin</td>\n",
       "      <td>raceandhispanicorigin.NHSPOTH_CY</td>\n",
       "      <td>raceandhispanicorigin_NHSPOTH_CY</td>\n",
       "    </tr>\n",
       "    <tr>\n",
       "      <th>1321</th>\n",
       "      <td>NHSPMLT_CY</td>\n",
       "      <td>2020 Non-Hispanic Multiple Race Pop</td>\n",
       "      <td>raceandhispanicorigin</td>\n",
       "      <td>raceandhispanicorigin.NHSPMLT_CY</td>\n",
       "      <td>raceandhispanicorigin_NHSPMLT_CY</td>\n",
       "    </tr>\n",
       "    <tr>\n",
       "      <th>1322</th>\n",
       "      <td>WLTHINDXCY</td>\n",
       "      <td>2020 Wealth Index</td>\n",
       "      <td>Wealth</td>\n",
       "      <td>Wealth.WLTHINDXCY</td>\n",
       "      <td>Wealth_WLTHINDXCY</td>\n",
       "    </tr>\n",
       "  </tbody>\n",
       "</table>\n",
       "<p>1323 rows × 5 columns</p>\n",
       "</div>"
      ],
      "text/plain": [
       "            name                                   alias  \\\n",
       "0       CHILD_CY                   2020 Child Population   \n",
       "1     WORKAGE_CY             2020 Working-Age Population   \n",
       "2      SENIOR_CY                  2020 Senior Population   \n",
       "3     CHLDDEP_CY             2020 Child Dependency Ratio   \n",
       "4      AGEDEP_CY               2020 Age Dependency Ratio   \n",
       "...          ...                                     ...   \n",
       "1318  NHSPASN_CY             2020 Non-Hispanic Asian Pop   \n",
       "1319   NHSPPI_CY  2020 Non-Hispanic Pacific Islander Pop   \n",
       "1320  NHSPOTH_CY        2020 Non-Hispanic Other Race Pop   \n",
       "1321  NHSPMLT_CY     2020 Non-Hispanic Multiple Race Pop   \n",
       "1322  WLTHINDXCY                       2020 Wealth Index   \n",
       "\n",
       "            data_collection                       enrich_name  \\\n",
       "0             AgeDependency            AgeDependency.CHILD_CY   \n",
       "1             AgeDependency          AgeDependency.WORKAGE_CY   \n",
       "2             AgeDependency           AgeDependency.SENIOR_CY   \n",
       "3             AgeDependency          AgeDependency.CHLDDEP_CY   \n",
       "4             AgeDependency           AgeDependency.AGEDEP_CY   \n",
       "...                     ...                               ...   \n",
       "1318  raceandhispanicorigin  raceandhispanicorigin.NHSPASN_CY   \n",
       "1319  raceandhispanicorigin   raceandhispanicorigin.NHSPPI_CY   \n",
       "1320  raceandhispanicorigin  raceandhispanicorigin.NHSPOTH_CY   \n",
       "1321  raceandhispanicorigin  raceandhispanicorigin.NHSPMLT_CY   \n",
       "1322                 Wealth                 Wealth.WLTHINDXCY   \n",
       "\n",
       "                     enrich_field_name  \n",
       "0               AgeDependency_CHILD_CY  \n",
       "1             AgeDependency_WORKAGE_CY  \n",
       "2              AgeDependency_SENIOR_CY  \n",
       "3             AgeDependency_CHLDDEP_CY  \n",
       "4              AgeDependency_AGEDEP_CY  \n",
       "...                                ...  \n",
       "1318  raceandhispanicorigin_NHSPASN_CY  \n",
       "1319   raceandhispanicorigin_NHSPPI_CY  \n",
       "1320  raceandhispanicorigin_NHSPOTH_CY  \n",
       "1321  raceandhispanicorigin_NHSPMLT_CY  \n",
       "1322                 Wealth_WLTHINDXCY  \n",
       "\n",
       "[1323 rows x 5 columns]"
      ]
     },
     "execution_count": 12,
     "metadata": {},
     "output_type": "execute_result"
    }
   ],
   "source": [
    "uniq_df = usa_lcl.enrich_variables.drop_duplicates('name').reset_index(drop=True)\n",
    "\n",
    "cy_df = uniq_df[uniq_df['name'].str.endswith('CY')].reset_index(drop=True)\n",
    "\n",
    "cy_df"
   ]
  },
  {
   "cell_type": "markdown",
   "metadata": {
    "slideshow": {
     "slide_type": "slide"
    },
    "tags": []
   },
   "source": [
    "#### Current Year Sample Variables\n",
    "\n",
    "Frequently, when demonstrating analysis ad-hoc quickly, I take advantage of Data Collections to grab a few useful current year variables."
   ]
  },
  {
   "cell_type": "code",
   "execution_count": 13,
   "metadata": {
    "slideshow": {
     "slide_type": "fragment"
    },
    "tags": []
   },
   "outputs": [
    {
     "data": {
      "text/html": [
       "<div>\n",
       "<style scoped>\n",
       "    .dataframe tbody tr th:only-of-type {\n",
       "        vertical-align: middle;\n",
       "    }\n",
       "\n",
       "    .dataframe tbody tr th {\n",
       "        vertical-align: top;\n",
       "    }\n",
       "\n",
       "    .dataframe thead th {\n",
       "        text-align: right;\n",
       "    }\n",
       "</style>\n",
       "<table border=\"1\" class=\"dataframe\">\n",
       "  <thead>\n",
       "    <tr style=\"text-align: right;\">\n",
       "      <th></th>\n",
       "      <th>name</th>\n",
       "      <th>alias</th>\n",
       "      <th>data_collection</th>\n",
       "      <th>enrich_name</th>\n",
       "      <th>enrich_field_name</th>\n",
       "    </tr>\n",
       "  </thead>\n",
       "  <tbody>\n",
       "    <tr>\n",
       "      <th>0</th>\n",
       "      <td>A15I0_CY</td>\n",
       "      <td>2020 HH Inc &lt;$15000/HHr 15-24</td>\n",
       "      <td>incomebyage</td>\n",
       "      <td>incomebyage.A15I0_CY</td>\n",
       "      <td>incomebyage_A15I0_CY</td>\n",
       "    </tr>\n",
       "    <tr>\n",
       "      <th>1</th>\n",
       "      <td>A15I15_CY</td>\n",
       "      <td>2020 HH Inc $15K-24999/HHr 15-24</td>\n",
       "      <td>incomebyage</td>\n",
       "      <td>incomebyage.A15I15_CY</td>\n",
       "      <td>incomebyage_A15I15_CY</td>\n",
       "    </tr>\n",
       "    <tr>\n",
       "      <th>2</th>\n",
       "      <td>A15I25_CY</td>\n",
       "      <td>2020 HH Inc $25K-34999/HHr 15-24</td>\n",
       "      <td>incomebyage</td>\n",
       "      <td>incomebyage.A15I25_CY</td>\n",
       "      <td>incomebyage_A15I25_CY</td>\n",
       "    </tr>\n",
       "    <tr>\n",
       "      <th>3</th>\n",
       "      <td>A15I35_CY</td>\n",
       "      <td>2020 HH Inc $35K-49999/HHr 15-24</td>\n",
       "      <td>incomebyage</td>\n",
       "      <td>incomebyage.A15I35_CY</td>\n",
       "      <td>incomebyage_A15I35_CY</td>\n",
       "    </tr>\n",
       "    <tr>\n",
       "      <th>4</th>\n",
       "      <td>A15I50_CY</td>\n",
       "      <td>2020 HH Inc $50K-74999/HHr 15-24</td>\n",
       "      <td>incomebyage</td>\n",
       "      <td>incomebyage.A15I50_CY</td>\n",
       "      <td>incomebyage_A15I50_CY</td>\n",
       "    </tr>\n",
       "    <tr>\n",
       "      <th>...</th>\n",
       "      <td>...</td>\n",
       "      <td>...</td>\n",
       "      <td>...</td>\n",
       "      <td>...</td>\n",
       "      <td>...</td>\n",
       "    </tr>\n",
       "    <tr>\n",
       "      <th>90</th>\n",
       "      <td>IA75BASECY</td>\n",
       "      <td>2020 HH Income Base: HHr 75+</td>\n",
       "      <td>incomebyage</td>\n",
       "      <td>incomebyage.IA75BASECY</td>\n",
       "      <td>incomebyage_IA75BASECY</td>\n",
       "    </tr>\n",
       "    <tr>\n",
       "      <th>91</th>\n",
       "      <td>MEDHHR_CY</td>\n",
       "      <td>2020 Median Age of Householder</td>\n",
       "      <td>incomebyage</td>\n",
       "      <td>incomebyage.MEDHHR_CY</td>\n",
       "      <td>incomebyage_MEDHHR_CY</td>\n",
       "    </tr>\n",
       "    <tr>\n",
       "      <th>92</th>\n",
       "      <td>IA65UBASCY</td>\n",
       "      <td>2020 HHs by Inc Base: HHr 65+</td>\n",
       "      <td>incomebyage</td>\n",
       "      <td>incomebyage.IA65UBASCY</td>\n",
       "      <td>incomebyage_IA65UBASCY</td>\n",
       "    </tr>\n",
       "    <tr>\n",
       "      <th>93</th>\n",
       "      <td>MEDIA65UCY</td>\n",
       "      <td>2020 Median HH Inc: HHr 65+</td>\n",
       "      <td>incomebyage</td>\n",
       "      <td>incomebyage.MEDIA65UCY</td>\n",
       "      <td>incomebyage_MEDIA65UCY</td>\n",
       "    </tr>\n",
       "    <tr>\n",
       "      <th>94</th>\n",
       "      <td>AVGIA65UCY</td>\n",
       "      <td>2020 Avg HH Income: HHr 65+</td>\n",
       "      <td>incomebyage</td>\n",
       "      <td>incomebyage.AVGIA65UCY</td>\n",
       "      <td>incomebyage_AVGIA65UCY</td>\n",
       "    </tr>\n",
       "  </tbody>\n",
       "</table>\n",
       "<p>95 rows × 5 columns</p>\n",
       "</div>"
      ],
      "text/plain": [
       "          name                             alias data_collection  \\\n",
       "0     A15I0_CY     2020 HH Inc <$15000/HHr 15-24     incomebyage   \n",
       "1    A15I15_CY  2020 HH Inc $15K-24999/HHr 15-24     incomebyage   \n",
       "2    A15I25_CY  2020 HH Inc $25K-34999/HHr 15-24     incomebyage   \n",
       "3    A15I35_CY  2020 HH Inc $35K-49999/HHr 15-24     incomebyage   \n",
       "4    A15I50_CY  2020 HH Inc $50K-74999/HHr 15-24     incomebyage   \n",
       "..         ...                               ...             ...   \n",
       "90  IA75BASECY      2020 HH Income Base: HHr 75+     incomebyage   \n",
       "91   MEDHHR_CY    2020 Median Age of Householder     incomebyage   \n",
       "92  IA65UBASCY     2020 HHs by Inc Base: HHr 65+     incomebyage   \n",
       "93  MEDIA65UCY       2020 Median HH Inc: HHr 65+     incomebyage   \n",
       "94  AVGIA65UCY       2020 Avg HH Income: HHr 65+     incomebyage   \n",
       "\n",
       "               enrich_name       enrich_field_name  \n",
       "0     incomebyage.A15I0_CY    incomebyage_A15I0_CY  \n",
       "1    incomebyage.A15I15_CY   incomebyage_A15I15_CY  \n",
       "2    incomebyage.A15I25_CY   incomebyage_A15I25_CY  \n",
       "3    incomebyage.A15I35_CY   incomebyage_A15I35_CY  \n",
       "4    incomebyage.A15I50_CY   incomebyage_A15I50_CY  \n",
       "..                     ...                     ...  \n",
       "90  incomebyage.IA75BASECY  incomebyage_IA75BASECY  \n",
       "91   incomebyage.MEDHHR_CY   incomebyage_MEDHHR_CY  \n",
       "92  incomebyage.IA65UBASCY  incomebyage_IA65UBASCY  \n",
       "93  incomebyage.MEDIA65UCY  incomebyage_MEDIA65UCY  \n",
       "94  incomebyage.AVGIA65UCY  incomebyage_AVGIA65UCY  \n",
       "\n",
       "[95 rows x 5 columns]"
      ]
     },
     "execution_count": 13,
     "metadata": {},
     "output_type": "execute_result"
    }
   ],
   "source": [
    "var_df = usa_lcl.enrich_variables\n",
    "\n",
    "smpl_df = uniq_df[\n",
    "    (uniq_df['name'].str.endswith('CY'))\n",
    "    & ((uniq_df['data_collection'] == 'incomebyage') | (uniq_df['data_collection'] == 'population'))\n",
    "].drop_duplicates('name').reset_index(drop=True)\n",
    "\n",
    "smpl_df"
   ]
  },
  {
   "cell_type": "markdown",
   "metadata": {
    "slideshow": {
     "slide_type": "slide"
    }
   },
   "source": [
    "## Enrichment\n",
    "\n",
    "The Python API already includes a wrapper around the enrich REST endpoint. The ArcGIS Pro GeoProcessing Enrich Layer tool currently is the only way to enrich data using local resources. Each requires the variable input in a slightly different format."
   ]
  },
  {
   "cell_type": "markdown",
   "metadata": {
    "slideshow": {
     "slide_type": "slide"
    },
    "tags": []
   },
   "source": [
    "### Local Enrichment\n",
    "\n",
    "Enrichment varialbes must be concantenated into a single semicolon separated string for input into the Enrich Layer GeoProcessing tool. This can be accommplished easily enough using a little string concantenation in Python."
   ]
  },
  {
   "cell_type": "code",
   "execution_count": 14,
   "metadata": {
    "slideshow": {
     "slide_type": "fragment"
    }
   },
   "outputs": [
    {
     "name": "stdout",
     "output_type": "stream",
     "text": [
      "incomebyage.A15I0_CY;incomebyage.A15I15_CY;incomebyage.A15I25_CY;incomebyage.A15I35_CY;incomebyage.A15I50_CY;incomebyage.A15I75_CY;incomebyage.A15I100_CY;incomebyage.A15I150_CY;incomebyage.A15I200_CY;incomebyage.MEDIA15_CY;incomebyage.AVGIA15_CY;incomebyage.AGGIA15_CY;incomebyage.IA15BASECY;incomebyage.A25I0_CY;incomebyage.A25I15_CY;incomebyage.A25I25_CY;incomebyage.A25I35_CY;incomebyage.A25I50_CY;incomebyage.A25I75_CY;incomebyage.A25I100_CY;incomebyage.A25I150_CY;incomebyage.A25I200_CY;incomebyage.MEDIA25_CY;incomebyage.AVGIA25_CY;incomebyage.AGGIA25_CY;incomebyage.IA25BASECY;incomebyage.A35I0_CY;incomebyage.A35I15_CY;incomebyage.A35I25_CY;incomebyage.A35I35_CY;incomebyage.A35I50_CY;incomebyage.A35I75_CY;incomebyage.A35I100_CY;incomebyage.A35I150_CY;incomebyage.A35I200_CY;incomebyage.MEDIA35_CY;incomebyage.AVGIA35_CY;incomebyage.AGGIA35_CY;incomebyage.IA35BASECY;incomebyage.A45I0_CY;incomebyage.A45I15_CY;incomebyage.A45I25_CY;incomebyage.A45I35_CY;incomebyage.A45I50_CY;incomebyage.A45I75_CY;incomebyage.A45I100_CY;incomebyage.A45I150_CY;incomebyage.A45I200_CY;incomebyage.MEDIA45_CY;incomebyage.AVGIA45_CY;incomebyage.AGGIA45_CY;incomebyage.IA45BASECY;incomebyage.A55I0_CY;incomebyage.A55I15_CY;incomebyage.A55I25_CY;incomebyage.A55I35_CY;incomebyage.A55I50_CY;incomebyage.A55I75_CY;incomebyage.A55I100_CY;incomebyage.A55I150_CY;incomebyage.A55I200_CY;incomebyage.MEDIA55_CY;incomebyage.AVGIA55_CY;incomebyage.AGGIA55_CY;incomebyage.IA55BASECY;incomebyage.A65I0_CY;incomebyage.A65I15_CY;incomebyage.A65I25_CY;incomebyage.A65I35_CY;incomebyage.A65I50_CY;incomebyage.A65I75_CY;incomebyage.A65I100_CY;incomebyage.A65I150_CY;incomebyage.A65I200_CY;incomebyage.MEDIA65_CY;incomebyage.AVGIA65_CY;incomebyage.AGGIA65_CY;incomebyage.IA65BASECY;incomebyage.A75I0_CY;incomebyage.A75I15_CY;incomebyage.A75I25_CY;incomebyage.A75I35_CY;incomebyage.A75I50_CY;incomebyage.A75I75_CY;incomebyage.A75I100_CY;incomebyage.A75I150_CY;incomebyage.A75I200_CY;incomebyage.MEDIA75_CY;incomebyage.AVGIA75_CY;incomebyage.AGGIA75_CY;incomebyage.IA75BASECY;incomebyage.MEDHHR_CY;incomebyage.IA65UBASCY;incomebyage.MEDIA65UCY;incomebyage.AVGIA65UCY\n"
     ]
    }
   ],
   "source": [
    "var_df = usa_lcl.enrich_variables\n",
    "\n",
    "smpl_df = uniq_df[\n",
    "    (uniq_df['name'].str.endswith('CY'))\n",
    "    & ((uniq_df['data_collection'] == 'incomebyage') | (uniq_df['data_collection'] == 'population'))\n",
    "].drop_duplicates('name').reset_index(drop=True)\n",
    "\n",
    "enrich_str = ';'.join(smpl_df.enrich_name)\n",
    "\n",
    "print(enrich_str)"
   ]
  },
  {
   "cell_type": "markdown",
   "metadata": {
    "slideshow": {
     "slide_type": "slide"
    },
    "tags": []
   },
   "source": [
    "### Web GIS Enrichment\n",
    "\n",
    "Enriching using the Python API calling the rest endpoint requires slightly different syntax, a semicolon separated list of variable names."
   ]
  },
  {
   "cell_type": "code",
   "execution_count": 15,
   "metadata": {
    "slideshow": {
     "slide_type": "fragment"
    },
    "tags": []
   },
   "outputs": [
    {
     "name": "stdout",
     "output_type": "stream",
     "text": [
      "A15I0_CY;A15I15_CY;A15I25_CY;A15I35_CY;A15I50_CY;A15I75_CY;A15I100_CY;A15I150_CY;A15I200_CY;MEDIA15_CY;AVGIA15_CY;AGGIA15_CY;IA15BASECY;A25I0_CY;A25I15_CY;A25I25_CY;A25I35_CY;A25I50_CY;A25I75_CY;A25I100_CY;A25I150_CY;A25I200_CY;MEDIA25_CY;AVGIA25_CY;AGGIA25_CY;IA25BASECY;A35I0_CY;A35I15_CY;A35I25_CY;A35I35_CY;A35I50_CY;A35I75_CY;A35I100_CY;A35I150_CY;A35I200_CY;MEDIA35_CY;AVGIA35_CY;AGGIA35_CY;IA35BASECY;A45I0_CY;A45I15_CY;A45I25_CY;A45I35_CY;A45I50_CY;A45I75_CY;A45I100_CY;A45I150_CY;A45I200_CY;MEDIA45_CY;AVGIA45_CY;AGGIA45_CY;IA45BASECY;A55I0_CY;A55I15_CY;A55I25_CY;A55I35_CY;A55I50_CY;A55I75_CY;A55I100_CY;A55I150_CY;A55I200_CY;MEDIA55_CY;AVGIA55_CY;AGGIA55_CY;IA55BASECY;A65I0_CY;A65I15_CY;A65I25_CY;A65I35_CY;A65I50_CY;A65I75_CY;A65I100_CY;A65I150_CY;A65I200_CY;MEDIA65_CY;AVGIA65_CY;AGGIA65_CY;IA65BASECY;A75I0_CY;A75I15_CY;A75I25_CY;A75I35_CY;A75I50_CY;A75I75_CY;A75I100_CY;A75I150_CY;A75I200_CY;MEDIA75_CY;AVGIA75_CY;AGGIA75_CY;IA75BASECY;MEDHHR_CY;IA65UBASCY;MEDIA65UCY;AVGIA65UCY\n"
     ]
    }
   ],
   "source": [
    "var_df = usa_gis.enrich_variables\n",
    "\n",
    "smpl_df = uniq_df[\n",
    "    (uniq_df['name'].str.endswith('CY'))\n",
    "    & ((uniq_df['data_collection'] == 'incomebyage') | (uniq_df['data_collection'] == 'population'))\n",
    "].drop_duplicates('name').reset_index(drop=True)\n",
    "\n",
    "enrich_str = ';'.join(smpl_df.name)\n",
    "\n",
    "print(enrich_str)"
   ]
  },
  {
   "cell_type": "markdown",
   "metadata": {
    "slideshow": {
     "slide_type": "slide"
    }
   },
   "source": [
    "## Next Step - Enrich Method\n",
    "\n",
    "The next step is updating the Python API `enrich` method to support both local and remote resources, and handle the variable introspection dataframes as input. This will enable a single workflow for discovering what data is available and retrieving the data whether the data is being retrieved from a local or GIS source."
   ]
  }
 ],
 "metadata": {
  "kernelspec": {
   "display_name": "Python 3",
   "language": "python",
   "name": "python3"
  },
  "language_info": {
   "codemirror_mode": {
    "name": "ipython",
    "version": 3
   },
   "file_extension": ".py",
   "mimetype": "text/x-python",
   "name": "python",
   "nbconvert_exporter": "python",
   "pygments_lexer": "ipython3",
   "version": "3.7.10"
  }
 },
 "nbformat": 4,
 "nbformat_minor": 4
}
