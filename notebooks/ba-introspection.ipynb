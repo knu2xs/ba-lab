{
 "cells": [
  {
   "cell_type": "markdown",
   "metadata": {
    "slideshow": {
     "slide_type": "slide"
    }
   },
   "source": [
    "# Business Analyst Introspection\n",
    "\n",
    "The first step in using ArcGIS Business Analyst for data enrichment is figuring out what is possible, what you *can* do. This begins with selecting a soruce, figuring out which countries are available from the given source, and discovering what variables are available in the country you are interested in working in."
   ]
  },
  {
   "cell_type": "markdown",
   "metadata": {
    "slideshow": {
     "slide_type": "slide"
    },
    "tags": []
   },
   "source": [
    "## The `BusinessAnalyst` object\n",
    "\n",
    "Business Analyst functionality can be accessed throughout the ArcGIS Platform from a variety of sources. These sources are either locally or through a Web GIS. The `BusinessAnalyst` object, when instantiated, selects the source automatically or honors the `source` input parameter to set it explicitly."
   ]
  },
  {
   "cell_type": "code",
   "execution_count": 1,
   "metadata": {
    "slideshow": {
     "slide_type": "fragment"
    },
    "tags": []
   },
   "outputs": [],
   "source": [
    "from arcgis.geoenrichment import BusinessAnalyst as BA"
   ]
  },
  {
   "cell_type": "markdown",
   "metadata": {
    "slideshow": {
     "slide_type": "slide"
    },
    "tags": []
   },
   "source": [
    "### Local Business Analyst Source\n",
    "\n",
    "The `BusinessAnalyst` object can explicitly be set to reference local resources using the `local` keyword for the first input parameter, `source`. Utilizing local resources requires the Python environment to have `arcpy` installed referencing ArcGIS Pro with Business Analyst and local data for at least one Country installed."
   ]
  },
  {
   "cell_type": "code",
   "execution_count": 2,
   "metadata": {
    "slideshow": {
     "slide_type": "fragment"
    },
    "tags": []
   },
   "outputs": [
    {
     "data": {
      "text/plain": [
       "<BusinessAnalyst (local)>"
      ]
     },
     "execution_count": 2,
     "metadata": {},
     "output_type": "execute_result"
    }
   ],
   "source": [
    "ba_lcl = BA('local')\n",
    "\n",
    "ba_lcl"
   ]
  },
  {
   "cell_type": "markdown",
   "metadata": {
    "slideshow": {
     "slide_type": "slide"
    },
    "tags": []
   },
   "source": [
    "### Web GIS `BusinessAnalyst` Source\n",
    "\n",
    "A Web GIS can also be used with the `BusinessAnalyst` object in the form of a `GIS` object instance enabling access to either an Enterprise GIS or ArcGIS Online. If using an Enterprise GIS, Enrichment must be configured in the settings. This can either reference ArcGIS Online or a configured Business Analyst server."
   ]
  },
  {
   "cell_type": "code",
   "execution_count": 3,
   "metadata": {
    "slideshow": {
     "slide_type": "fragment"
    },
    "tags": []
   },
   "outputs": [
    {
     "data": {
      "text/plain": [
       "<BusinessAnalyst (GIS @ https://www.arcgis.com version:9.1)>"
      ]
     },
     "execution_count": 3,
     "metadata": {},
     "output_type": "execute_result"
    }
   ],
   "source": [
    "from arcgis.gis import GIS\n",
    "gis = GIS()  # connecting to ArcGIS Online as an anonymous user\n",
    "\n",
    "ba_gis = BA(gis)\n",
    "\n",
    "ba_gis"
   ]
  },
  {
   "cell_type": "markdown",
   "metadata": {
    "slideshow": {
     "slide_type": "slide"
    },
    "tags": []
   },
   "source": [
    "### Implicit `BusinessAnalyst` Source\n",
    "\n",
    "When instantiating the `BusinessAnalyst` object, it is not imperative to explicitly set the `source`. If left blank, it will attempt to set the source to `local` if Pro with Business Analyst is available, or utlize the `active_gis` if this has been set in the Python session."
   ]
  },
  {
   "cell_type": "code",
   "execution_count": 4,
   "metadata": {
    "slideshow": {
     "slide_type": "fragment"
    },
    "tags": []
   },
   "outputs": [
    {
     "data": {
      "text/plain": [
       "<BusinessAnalyst (local)>"
      ]
     },
     "execution_count": 4,
     "metadata": {},
     "output_type": "execute_result"
    }
   ],
   "source": [
    "ba_impl = BA()  # since I have Pro with BA, Enrichment defaults to local\n",
    "\n",
    "ba_impl"
   ]
  },
  {
   "cell_type": "markdown",
   "metadata": {
    "slideshow": {
     "slide_type": "slide"
    },
    "tags": []
   },
   "source": [
    "## Discovering Countries\n",
    "\n",
    "Both configurations enable discovering what countries are available using idential syntax."
   ]
  },
  {
   "cell_type": "markdown",
   "metadata": {
    "slideshow": {
     "slide_type": "slide"
    },
    "tags": []
   },
   "source": [
    "### Local Country Introspection"
   ]
  },
  {
   "cell_type": "code",
   "execution_count": 5,
   "metadata": {
    "slideshow": {
     "slide_type": "fragment"
    },
    "tags": []
   },
   "outputs": [
    {
     "data": {
      "text/html": [
       "<div>\n",
       "<style scoped>\n",
       "    .dataframe tbody tr th:only-of-type {\n",
       "        vertical-align: middle;\n",
       "    }\n",
       "\n",
       "    .dataframe tbody tr th {\n",
       "        vertical-align: top;\n",
       "    }\n",
       "\n",
       "    .dataframe thead th {\n",
       "        text-align: right;\n",
       "    }\n",
       "</style>\n",
       "<table border=\"1\" class=\"dataframe\">\n",
       "  <thead>\n",
       "    <tr style=\"text-align: right;\">\n",
       "      <th></th>\n",
       "      <th>iso2</th>\n",
       "      <th>iso3</th>\n",
       "      <th>country_name</th>\n",
       "      <th>vintage</th>\n",
       "      <th>country_id</th>\n",
       "      <th>data_source_id</th>\n",
       "    </tr>\n",
       "  </thead>\n",
       "  <tbody>\n",
       "    <tr>\n",
       "      <th>0</th>\n",
       "      <td>CA</td>\n",
       "      <td>CAN</td>\n",
       "      <td>Canada</td>\n",
       "      <td>2020</td>\n",
       "      <td>CAN_ESRI_2019</td>\n",
       "      <td>LOCAL;;CAN_ESRI_2019</td>\n",
       "    </tr>\n",
       "    <tr>\n",
       "      <th>1</th>\n",
       "      <td>US</td>\n",
       "      <td>USA</td>\n",
       "      <td>United States</td>\n",
       "      <td>2019</td>\n",
       "      <td>USA_ESRI_2019</td>\n",
       "      <td>LOCAL;;USA_ESRI_2019</td>\n",
       "    </tr>\n",
       "    <tr>\n",
       "      <th>2</th>\n",
       "      <td>US</td>\n",
       "      <td>USA</td>\n",
       "      <td>United States</td>\n",
       "      <td>2020</td>\n",
       "      <td>USA_ESRI_2020</td>\n",
       "      <td>LOCAL;;USA_ESRI_2020</td>\n",
       "    </tr>\n",
       "  </tbody>\n",
       "</table>\n",
       "</div>"
      ],
      "text/plain": [
       "  iso2 iso3   country_name  vintage     country_id        data_source_id\n",
       "0   CA  CAN         Canada     2020  CAN_ESRI_2019  LOCAL;;CAN_ESRI_2019\n",
       "1   US  USA  United States     2019  USA_ESRI_2019  LOCAL;;USA_ESRI_2019\n",
       "2   US  USA  United States     2020  USA_ESRI_2020  LOCAL;;USA_ESRI_2020"
      ]
     },
     "execution_count": 5,
     "metadata": {},
     "output_type": "execute_result"
    }
   ],
   "source": [
    "ba_lcl.countries"
   ]
  },
  {
   "cell_type": "markdown",
   "metadata": {
    "slideshow": {
     "slide_type": "slide"
    },
    "tags": []
   },
   "source": [
    "### Web GIS Country Introspection"
   ]
  },
  {
   "cell_type": "code",
   "execution_count": 6,
   "metadata": {
    "slideshow": {
     "slide_type": "fragment"
    },
    "tags": []
   },
   "outputs": [
    {
     "data": {
      "text/html": [
       "<div>\n",
       "<style scoped>\n",
       "    .dataframe tbody tr th:only-of-type {\n",
       "        vertical-align: middle;\n",
       "    }\n",
       "\n",
       "    .dataframe tbody tr th {\n",
       "        vertical-align: top;\n",
       "    }\n",
       "\n",
       "    .dataframe thead th {\n",
       "        text-align: right;\n",
       "    }\n",
       "</style>\n",
       "<table border=\"1\" class=\"dataframe\">\n",
       "  <thead>\n",
       "    <tr style=\"text-align: right;\">\n",
       "      <th></th>\n",
       "      <th>iso2</th>\n",
       "      <th>iso3</th>\n",
       "      <th>country_name</th>\n",
       "      <th>country_id</th>\n",
       "      <th>alt_name</th>\n",
       "      <th>continent</th>\n",
       "    </tr>\n",
       "  </thead>\n",
       "  <tbody>\n",
       "    <tr>\n",
       "      <th>0</th>\n",
       "      <td>AL</td>\n",
       "      <td>ALB</td>\n",
       "      <td>Albania</td>\n",
       "      <td>ALB_MBR_2019</td>\n",
       "      <td>ALBANIA</td>\n",
       "      <td>Europe</td>\n",
       "    </tr>\n",
       "    <tr>\n",
       "      <th>1</th>\n",
       "      <td>DZ</td>\n",
       "      <td>DZA</td>\n",
       "      <td>Algeria</td>\n",
       "      <td>DZA_MBR_2019</td>\n",
       "      <td>ALGERIA</td>\n",
       "      <td>Africa</td>\n",
       "    </tr>\n",
       "    <tr>\n",
       "      <th>2</th>\n",
       "      <td>AD</td>\n",
       "      <td>AND</td>\n",
       "      <td>Andorra</td>\n",
       "      <td>AND_MBR_2019</td>\n",
       "      <td>ANDORRA</td>\n",
       "      <td>Europe</td>\n",
       "    </tr>\n",
       "    <tr>\n",
       "      <th>3</th>\n",
       "      <td>AO</td>\n",
       "      <td>AGO</td>\n",
       "      <td>Angola</td>\n",
       "      <td>AGO_MBR_2019</td>\n",
       "      <td>ANGOLA</td>\n",
       "      <td>Africa</td>\n",
       "    </tr>\n",
       "    <tr>\n",
       "      <th>4</th>\n",
       "      <td>AR</td>\n",
       "      <td>ARG</td>\n",
       "      <td>Argentina</td>\n",
       "      <td>ARG_MBR_2020</td>\n",
       "      <td>ARGENTINA</td>\n",
       "      <td>South America</td>\n",
       "    </tr>\n",
       "    <tr>\n",
       "      <th>...</th>\n",
       "      <td>...</td>\n",
       "      <td>...</td>\n",
       "      <td>...</td>\n",
       "      <td>...</td>\n",
       "      <td>...</td>\n",
       "      <td>...</td>\n",
       "    </tr>\n",
       "    <tr>\n",
       "      <th>131</th>\n",
       "      <td>UY</td>\n",
       "      <td>URY</td>\n",
       "      <td>Uruguay</td>\n",
       "      <td>URY_MBR_2020</td>\n",
       "      <td>URUGUAY</td>\n",
       "      <td>South America</td>\n",
       "    </tr>\n",
       "    <tr>\n",
       "      <th>132</th>\n",
       "      <td>UZ</td>\n",
       "      <td>UZB</td>\n",
       "      <td>Uzbekistan</td>\n",
       "      <td>UZB_MBR_2020</td>\n",
       "      <td>UZBEKISTAN</td>\n",
       "      <td>Asia</td>\n",
       "    </tr>\n",
       "    <tr>\n",
       "      <th>133</th>\n",
       "      <td>VE</td>\n",
       "      <td>VEN</td>\n",
       "      <td>Venezuela</td>\n",
       "      <td>VEN_MBR_2020</td>\n",
       "      <td>VENEZUELA, BOLIVARIAN REPUBLIC OF</td>\n",
       "      <td>South America</td>\n",
       "    </tr>\n",
       "    <tr>\n",
       "      <th>134</th>\n",
       "      <td>VN</td>\n",
       "      <td>VNM</td>\n",
       "      <td>Vietnam</td>\n",
       "      <td>VNM_MBR_2020</td>\n",
       "      <td>VIET NAM</td>\n",
       "      <td>Asia</td>\n",
       "    </tr>\n",
       "    <tr>\n",
       "      <th>135</th>\n",
       "      <td>ZM</td>\n",
       "      <td>ZMB</td>\n",
       "      <td>Zambia</td>\n",
       "      <td>ZMB_MBR_2019</td>\n",
       "      <td>ZAMBIA</td>\n",
       "      <td>Africa</td>\n",
       "    </tr>\n",
       "  </tbody>\n",
       "</table>\n",
       "<p>136 rows × 6 columns</p>\n",
       "</div>"
      ],
      "text/plain": [
       "    iso2 iso3 country_name    country_id                           alt_name  \\\n",
       "0     AL  ALB      Albania  ALB_MBR_2019                            ALBANIA   \n",
       "1     DZ  DZA      Algeria  DZA_MBR_2019                            ALGERIA   \n",
       "2     AD  AND      Andorra  AND_MBR_2019                            ANDORRA   \n",
       "3     AO  AGO       Angola  AGO_MBR_2019                             ANGOLA   \n",
       "4     AR  ARG    Argentina  ARG_MBR_2020                          ARGENTINA   \n",
       "..   ...  ...          ...           ...                                ...   \n",
       "131   UY  URY      Uruguay  URY_MBR_2020                            URUGUAY   \n",
       "132   UZ  UZB   Uzbekistan  UZB_MBR_2020                         UZBEKISTAN   \n",
       "133   VE  VEN    Venezuela  VEN_MBR_2020  VENEZUELA, BOLIVARIAN REPUBLIC OF   \n",
       "134   VN  VNM      Vietnam  VNM_MBR_2020                           VIET NAM   \n",
       "135   ZM  ZMB       Zambia  ZMB_MBR_2019                             ZAMBIA   \n",
       "\n",
       "         continent  \n",
       "0           Europe  \n",
       "1           Africa  \n",
       "2           Europe  \n",
       "3           Africa  \n",
       "4    South America  \n",
       "..             ...  \n",
       "131  South America  \n",
       "132           Asia  \n",
       "133  South America  \n",
       "134           Asia  \n",
       "135         Africa  \n",
       "\n",
       "[136 rows x 6 columns]"
      ]
     },
     "execution_count": 6,
     "metadata": {},
     "output_type": "execute_result"
    }
   ],
   "source": [
    "ba_gis.countries"
   ]
  },
  {
   "cell_type": "markdown",
   "metadata": {
    "slideshow": {
     "slide_type": "slide"
    },
    "tags": []
   },
   "source": [
    "## Enrich Variable Introspection\n",
    "\n",
    "Currently the `Country` object is how most data is organized in Business Analyst. Consequently, before discovering what variables are available for enrichment, a country must be retrieved from the instantiated `BusinessAnalyst` object. The syntax is idential whether using `local` or a`GIS` object instance as the source."
   ]
  },
  {
   "cell_type": "markdown",
   "metadata": {
    "slideshow": {
     "slide_type": "slide"
    },
    "tags": []
   },
   "source": [
    "### Local Country Instantiation"
   ]
  },
  {
   "cell_type": "code",
   "execution_count": 7,
   "metadata": {
    "slideshow": {
     "slide_type": "fragment"
    },
    "tags": []
   },
   "outputs": [
    {
     "data": {
      "text/plain": [
       "<Country - USA 2020 (local)>"
      ]
     },
     "execution_count": 7,
     "metadata": {},
     "output_type": "execute_result"
    }
   ],
   "source": [
    "usa_lcl = ba_lcl.get_country('USA')\n",
    "\n",
    "usa_lcl"
   ]
  },
  {
   "cell_type": "markdown",
   "metadata": {
    "slideshow": {
     "slide_type": "slide"
    },
    "tags": []
   },
   "source": [
    "### Web GIS Country Introspection"
   ]
  },
  {
   "cell_type": "code",
   "execution_count": 8,
   "metadata": {
    "slideshow": {
     "slide_type": "fragment"
    },
    "tags": []
   },
   "outputs": [
    {
     "data": {
      "text/plain": [
       "<Country - USA (GIS @ https://www.arcgis.com version:9.1)>"
      ]
     },
     "execution_count": 8,
     "metadata": {},
     "output_type": "execute_result"
    }
   ],
   "source": [
    "usa_gis = ba_gis.get_country('USA')\n",
    "\n",
    "usa_gis"
   ]
  },
  {
   "cell_type": "markdown",
   "metadata": {
    "slideshow": {
     "slide_type": "slide"
    },
    "tags": []
   },
   "source": [
    "### Local Coutntry with Year Instantiation\n",
    "\n",
    "With a local source, clients also periodically a need to explicitly access older data to use with models built against a specific year's data. Explicitly setting the year is supported using the `year` parameter."
   ]
  },
  {
   "cell_type": "code",
   "execution_count": 9,
   "metadata": {
    "slideshow": {
     "slide_type": "fragment"
    },
    "tags": []
   },
   "outputs": [
    {
     "data": {
      "text/plain": [
       "<Country - USA 2019 (local)>"
      ]
     },
     "execution_count": 9,
     "metadata": {},
     "output_type": "execute_result"
    }
   ],
   "source": [
    "usa_lcl_2019 = ba_lcl.get_country('USA', year=2019)\n",
    "\n",
    "usa_lcl_2019"
   ]
  },
  {
   "cell_type": "markdown",
   "metadata": {
    "slideshow": {
     "slide_type": "slide"
    },
    "tags": []
   },
   "source": [
    "## Enrich Variable Introspection\n",
    "\n",
    "Once a country is instantiated, data available for enrichment can be discovered through the `Country` object instance. Whether the source is local or a GIS instance, the method is identical."
   ]
  },
  {
   "cell_type": "markdown",
   "metadata": {
    "slideshow": {
     "slide_type": "slide"
    },
    "tags": []
   },
   "source": [
    "### Local Variable Introspection"
   ]
  },
  {
   "cell_type": "code",
   "execution_count": 10,
   "metadata": {
    "slideshow": {
     "slide_type": "fragment"
    },
    "tags": []
   },
   "outputs": [
    {
     "data": {
      "text/html": [
       "<div>\n",
       "<style scoped>\n",
       "    .dataframe tbody tr th:only-of-type {\n",
       "        vertical-align: middle;\n",
       "    }\n",
       "\n",
       "    .dataframe tbody tr th {\n",
       "        vertical-align: top;\n",
       "    }\n",
       "\n",
       "    .dataframe thead th {\n",
       "        text-align: right;\n",
       "    }\n",
       "</style>\n",
       "<table border=\"1\" class=\"dataframe\">\n",
       "  <thead>\n",
       "    <tr style=\"text-align: right;\">\n",
       "      <th></th>\n",
       "      <th>name</th>\n",
       "      <th>alias</th>\n",
       "      <th>data_collection</th>\n",
       "      <th>enrich_name</th>\n",
       "      <th>enrich_field_name</th>\n",
       "    </tr>\n",
       "  </thead>\n",
       "  <tbody>\n",
       "    <tr>\n",
       "      <th>0</th>\n",
       "      <td>CHILD_CY</td>\n",
       "      <td>2020 Child Population</td>\n",
       "      <td>AgeDependency</td>\n",
       "      <td>AgeDependency.CHILD_CY</td>\n",
       "      <td>AgeDependency_CHILD_CY</td>\n",
       "    </tr>\n",
       "    <tr>\n",
       "      <th>1</th>\n",
       "      <td>WORKAGE_CY</td>\n",
       "      <td>2020 Working-Age Population</td>\n",
       "      <td>AgeDependency</td>\n",
       "      <td>AgeDependency.WORKAGE_CY</td>\n",
       "      <td>AgeDependency_WORKAGE_CY</td>\n",
       "    </tr>\n",
       "    <tr>\n",
       "      <th>2</th>\n",
       "      <td>SENIOR_CY</td>\n",
       "      <td>2020 Senior Population</td>\n",
       "      <td>AgeDependency</td>\n",
       "      <td>AgeDependency.SENIOR_CY</td>\n",
       "      <td>AgeDependency_SENIOR_CY</td>\n",
       "    </tr>\n",
       "    <tr>\n",
       "      <th>3</th>\n",
       "      <td>CHLDDEP_CY</td>\n",
       "      <td>2020 Child Dependency Ratio</td>\n",
       "      <td>AgeDependency</td>\n",
       "      <td>AgeDependency.CHLDDEP_CY</td>\n",
       "      <td>AgeDependency_CHLDDEP_CY</td>\n",
       "    </tr>\n",
       "    <tr>\n",
       "      <th>4</th>\n",
       "      <td>AGEDEP_CY</td>\n",
       "      <td>2020 Age Dependency Ratio</td>\n",
       "      <td>AgeDependency</td>\n",
       "      <td>AgeDependency.AGEDEP_CY</td>\n",
       "      <td>AgeDependency_AGEDEP_CY</td>\n",
       "    </tr>\n",
       "    <tr>\n",
       "      <th>...</th>\n",
       "      <td>...</td>\n",
       "      <td>...</td>\n",
       "      <td>...</td>\n",
       "      <td>...</td>\n",
       "      <td>...</td>\n",
       "    </tr>\n",
       "    <tr>\n",
       "      <th>16869</th>\n",
       "      <td>MOEMEDYRMV</td>\n",
       "      <td>2018 Median Year Householder Moved In MOE (ACS...</td>\n",
       "      <td>yearmovedin</td>\n",
       "      <td>yearmovedin.MOEMEDYRMV</td>\n",
       "      <td>yearmovedin_MOEMEDYRMV</td>\n",
       "    </tr>\n",
       "    <tr>\n",
       "      <th>16870</th>\n",
       "      <td>RELMEDYRMV</td>\n",
       "      <td>2018 Median Year Householder Moved In REL (ACS...</td>\n",
       "      <td>yearmovedin</td>\n",
       "      <td>yearmovedin.RELMEDYRMV</td>\n",
       "      <td>yearmovedin_RELMEDYRMV</td>\n",
       "    </tr>\n",
       "    <tr>\n",
       "      <th>16871</th>\n",
       "      <td>ACSOWNER</td>\n",
       "      <td>2018 Owner Households (ACS 5-Yr)</td>\n",
       "      <td>yearmovedin</td>\n",
       "      <td>yearmovedin.ACSOWNER</td>\n",
       "      <td>yearmovedin_ACSOWNER</td>\n",
       "    </tr>\n",
       "    <tr>\n",
       "      <th>16872</th>\n",
       "      <td>MOEOWNER</td>\n",
       "      <td>2018 Owner Households MOE (ACS 5-Yr)</td>\n",
       "      <td>yearmovedin</td>\n",
       "      <td>yearmovedin.MOEOWNER</td>\n",
       "      <td>yearmovedin_MOEOWNER</td>\n",
       "    </tr>\n",
       "    <tr>\n",
       "      <th>16873</th>\n",
       "      <td>RELOWNER</td>\n",
       "      <td>2018 Owner Households REL (ACS 5-Yr)</td>\n",
       "      <td>yearmovedin</td>\n",
       "      <td>yearmovedin.RELOWNER</td>\n",
       "      <td>yearmovedin_RELOWNER</td>\n",
       "    </tr>\n",
       "  </tbody>\n",
       "</table>\n",
       "<p>16874 rows × 5 columns</p>\n",
       "</div>"
      ],
      "text/plain": [
       "             name                                              alias  \\\n",
       "0        CHILD_CY                              2020 Child Population   \n",
       "1      WORKAGE_CY                        2020 Working-Age Population   \n",
       "2       SENIOR_CY                             2020 Senior Population   \n",
       "3      CHLDDEP_CY                        2020 Child Dependency Ratio   \n",
       "4       AGEDEP_CY                          2020 Age Dependency Ratio   \n",
       "...           ...                                                ...   \n",
       "16869  MOEMEDYRMV  2018 Median Year Householder Moved In MOE (ACS...   \n",
       "16870  RELMEDYRMV  2018 Median Year Householder Moved In REL (ACS...   \n",
       "16871    ACSOWNER                   2018 Owner Households (ACS 5-Yr)   \n",
       "16872    MOEOWNER               2018 Owner Households MOE (ACS 5-Yr)   \n",
       "16873    RELOWNER               2018 Owner Households REL (ACS 5-Yr)   \n",
       "\n",
       "      data_collection               enrich_name         enrich_field_name  \n",
       "0       AgeDependency    AgeDependency.CHILD_CY    AgeDependency_CHILD_CY  \n",
       "1       AgeDependency  AgeDependency.WORKAGE_CY  AgeDependency_WORKAGE_CY  \n",
       "2       AgeDependency   AgeDependency.SENIOR_CY   AgeDependency_SENIOR_CY  \n",
       "3       AgeDependency  AgeDependency.CHLDDEP_CY  AgeDependency_CHLDDEP_CY  \n",
       "4       AgeDependency   AgeDependency.AGEDEP_CY   AgeDependency_AGEDEP_CY  \n",
       "...               ...                       ...                       ...  \n",
       "16869     yearmovedin    yearmovedin.MOEMEDYRMV    yearmovedin_MOEMEDYRMV  \n",
       "16870     yearmovedin    yearmovedin.RELMEDYRMV    yearmovedin_RELMEDYRMV  \n",
       "16871     yearmovedin      yearmovedin.ACSOWNER      yearmovedin_ACSOWNER  \n",
       "16872     yearmovedin      yearmovedin.MOEOWNER      yearmovedin_MOEOWNER  \n",
       "16873     yearmovedin      yearmovedin.RELOWNER      yearmovedin_RELOWNER  \n",
       "\n",
       "[16874 rows x 5 columns]"
      ]
     },
     "execution_count": 10,
     "metadata": {},
     "output_type": "execute_result"
    }
   ],
   "source": [
    "usa_lcl.variables"
   ]
  },
  {
   "cell_type": "markdown",
   "metadata": {
    "slideshow": {
     "slide_type": "slide"
    },
    "tags": []
   },
   "source": [
    "### Web GIS Variable Introspection"
   ]
  },
  {
   "cell_type": "code",
   "execution_count": 11,
   "metadata": {
    "slideshow": {
     "slide_type": "fragment"
    },
    "tags": []
   },
   "outputs": [
    {
     "data": {
      "text/html": [
       "<div>\n",
       "<style scoped>\n",
       "    .dataframe tbody tr th:only-of-type {\n",
       "        vertical-align: middle;\n",
       "    }\n",
       "\n",
       "    .dataframe tbody tr th {\n",
       "        vertical-align: top;\n",
       "    }\n",
       "\n",
       "    .dataframe thead th {\n",
       "        text-align: right;\n",
       "    }\n",
       "</style>\n",
       "<table border=\"1\" class=\"dataframe\">\n",
       "  <thead>\n",
       "    <tr style=\"text-align: right;\">\n",
       "      <th></th>\n",
       "      <th>name</th>\n",
       "      <th>alias</th>\n",
       "      <th>data_collection</th>\n",
       "      <th>enrich_name</th>\n",
       "      <th>enrich_field_name</th>\n",
       "      <th>description</th>\n",
       "      <th>vintage</th>\n",
       "      <th>units</th>\n",
       "    </tr>\n",
       "  </thead>\n",
       "  <tbody>\n",
       "    <tr>\n",
       "      <th>0</th>\n",
       "      <td>AGE0_CY</td>\n",
       "      <td>2020 Population Age &lt;1</td>\n",
       "      <td>1yearincrements</td>\n",
       "      <td>1yearincrements.AGE0_CY</td>\n",
       "      <td>F1yearincrements_AGE0_CY</td>\n",
       "      <td>2020 Total Population Age &lt;1 (Esri)</td>\n",
       "      <td>2020</td>\n",
       "      <td>count</td>\n",
       "    </tr>\n",
       "    <tr>\n",
       "      <th>1</th>\n",
       "      <td>AGE1_CY</td>\n",
       "      <td>2020 Population Age 1</td>\n",
       "      <td>1yearincrements</td>\n",
       "      <td>1yearincrements.AGE1_CY</td>\n",
       "      <td>F1yearincrements_AGE1_CY</td>\n",
       "      <td>2020 Total Population Age 1 (Esri)</td>\n",
       "      <td>2020</td>\n",
       "      <td>count</td>\n",
       "    </tr>\n",
       "    <tr>\n",
       "      <th>2</th>\n",
       "      <td>AGE2_CY</td>\n",
       "      <td>2020 Population Age 2</td>\n",
       "      <td>1yearincrements</td>\n",
       "      <td>1yearincrements.AGE2_CY</td>\n",
       "      <td>F1yearincrements_AGE2_CY</td>\n",
       "      <td>2020 Total Population Age 2 (Esri)</td>\n",
       "      <td>2020</td>\n",
       "      <td>count</td>\n",
       "    </tr>\n",
       "    <tr>\n",
       "      <th>3</th>\n",
       "      <td>AGE3_CY</td>\n",
       "      <td>2020 Population Age 3</td>\n",
       "      <td>1yearincrements</td>\n",
       "      <td>1yearincrements.AGE3_CY</td>\n",
       "      <td>F1yearincrements_AGE3_CY</td>\n",
       "      <td>2020 Total Population Age 3 (Esri)</td>\n",
       "      <td>2020</td>\n",
       "      <td>count</td>\n",
       "    </tr>\n",
       "    <tr>\n",
       "      <th>4</th>\n",
       "      <td>AGE4_CY</td>\n",
       "      <td>2020 Population Age 4</td>\n",
       "      <td>1yearincrements</td>\n",
       "      <td>1yearincrements.AGE4_CY</td>\n",
       "      <td>F1yearincrements_AGE4_CY</td>\n",
       "      <td>2020 Total Population Age 4 (Esri)</td>\n",
       "      <td>2020</td>\n",
       "      <td>count</td>\n",
       "    </tr>\n",
       "    <tr>\n",
       "      <th>...</th>\n",
       "      <td>...</td>\n",
       "      <td>...</td>\n",
       "      <td>...</td>\n",
       "      <td>...</td>\n",
       "      <td>...</td>\n",
       "      <td>...</td>\n",
       "      <td>...</td>\n",
       "      <td>...</td>\n",
       "    </tr>\n",
       "    <tr>\n",
       "      <th>37</th>\n",
       "      <td>MOEMEDYRMV</td>\n",
       "      <td>2019 Median Year Householder Moved In MOE (ACS...</td>\n",
       "      <td>yearmovedin</td>\n",
       "      <td>yearmovedin.MOEMEDYRMV</td>\n",
       "      <td>yearmovedin_MOEMEDYRMV</td>\n",
       "      <td>2019 Median Year Householder Moved into Unit M...</td>\n",
       "      <td>2015-2019</td>\n",
       "      <td>count</td>\n",
       "    </tr>\n",
       "    <tr>\n",
       "      <th>38</th>\n",
       "      <td>RELMEDYRMV</td>\n",
       "      <td>2019 Median Year Householder Moved In REL (ACS...</td>\n",
       "      <td>yearmovedin</td>\n",
       "      <td>yearmovedin.RELMEDYRMV</td>\n",
       "      <td>yearmovedin_RELMEDYRMV</td>\n",
       "      <td>2019 Median Year Householder Moved into Unit R...</td>\n",
       "      <td>2015-2019</td>\n",
       "      <td>count</td>\n",
       "    </tr>\n",
       "    <tr>\n",
       "      <th>39</th>\n",
       "      <td>ACSOWNER</td>\n",
       "      <td>2019 Owner Households (ACS 5-Yr)</td>\n",
       "      <td>yearmovedin</td>\n",
       "      <td>yearmovedin.ACSOWNER</td>\n",
       "      <td>yearmovedin_ACSOWNER</td>\n",
       "      <td>2019 Owner Households (ACS 5-Yr)</td>\n",
       "      <td>2015-2019</td>\n",
       "      <td>count</td>\n",
       "    </tr>\n",
       "    <tr>\n",
       "      <th>40</th>\n",
       "      <td>MOEOWNER</td>\n",
       "      <td>2019 Owner Households MOE (ACS 5-Yr)</td>\n",
       "      <td>yearmovedin</td>\n",
       "      <td>yearmovedin.MOEOWNER</td>\n",
       "      <td>yearmovedin_MOEOWNER</td>\n",
       "      <td>2019 Owner Households MOE (ACS 5-Yr)</td>\n",
       "      <td>2015-2019</td>\n",
       "      <td>count</td>\n",
       "    </tr>\n",
       "    <tr>\n",
       "      <th>41</th>\n",
       "      <td>RELOWNER</td>\n",
       "      <td>2019 Owner Households REL (ACS 5-Yr)</td>\n",
       "      <td>yearmovedin</td>\n",
       "      <td>yearmovedin.RELOWNER</td>\n",
       "      <td>yearmovedin_RELOWNER</td>\n",
       "      <td>2019 Owner Households REL (ACS 5-Yr)</td>\n",
       "      <td>2015-2019</td>\n",
       "      <td>count</td>\n",
       "    </tr>\n",
       "  </tbody>\n",
       "</table>\n",
       "<p>18399 rows × 8 columns</p>\n",
       "</div>"
      ],
      "text/plain": [
       "          name                                              alias  \\\n",
       "0      AGE0_CY                             2020 Population Age <1   \n",
       "1      AGE1_CY                              2020 Population Age 1   \n",
       "2      AGE2_CY                              2020 Population Age 2   \n",
       "3      AGE3_CY                              2020 Population Age 3   \n",
       "4      AGE4_CY                              2020 Population Age 4   \n",
       "..         ...                                                ...   \n",
       "37  MOEMEDYRMV  2019 Median Year Householder Moved In MOE (ACS...   \n",
       "38  RELMEDYRMV  2019 Median Year Householder Moved In REL (ACS...   \n",
       "39    ACSOWNER                   2019 Owner Households (ACS 5-Yr)   \n",
       "40    MOEOWNER               2019 Owner Households MOE (ACS 5-Yr)   \n",
       "41    RELOWNER               2019 Owner Households REL (ACS 5-Yr)   \n",
       "\n",
       "    data_collection              enrich_name         enrich_field_name  \\\n",
       "0   1yearincrements  1yearincrements.AGE0_CY  F1yearincrements_AGE0_CY   \n",
       "1   1yearincrements  1yearincrements.AGE1_CY  F1yearincrements_AGE1_CY   \n",
       "2   1yearincrements  1yearincrements.AGE2_CY  F1yearincrements_AGE2_CY   \n",
       "3   1yearincrements  1yearincrements.AGE3_CY  F1yearincrements_AGE3_CY   \n",
       "4   1yearincrements  1yearincrements.AGE4_CY  F1yearincrements_AGE4_CY   \n",
       "..              ...                      ...                       ...   \n",
       "37      yearmovedin   yearmovedin.MOEMEDYRMV    yearmovedin_MOEMEDYRMV   \n",
       "38      yearmovedin   yearmovedin.RELMEDYRMV    yearmovedin_RELMEDYRMV   \n",
       "39      yearmovedin     yearmovedin.ACSOWNER      yearmovedin_ACSOWNER   \n",
       "40      yearmovedin     yearmovedin.MOEOWNER      yearmovedin_MOEOWNER   \n",
       "41      yearmovedin     yearmovedin.RELOWNER      yearmovedin_RELOWNER   \n",
       "\n",
       "                                          description    vintage  units  \n",
       "0                 2020 Total Population Age <1 (Esri)       2020  count  \n",
       "1                  2020 Total Population Age 1 (Esri)       2020  count  \n",
       "2                  2020 Total Population Age 2 (Esri)       2020  count  \n",
       "3                  2020 Total Population Age 3 (Esri)       2020  count  \n",
       "4                  2020 Total Population Age 4 (Esri)       2020  count  \n",
       "..                                                ...        ...    ...  \n",
       "37  2019 Median Year Householder Moved into Unit M...  2015-2019  count  \n",
       "38  2019 Median Year Householder Moved into Unit R...  2015-2019  count  \n",
       "39                   2019 Owner Households (ACS 5-Yr)  2015-2019  count  \n",
       "40               2019 Owner Households MOE (ACS 5-Yr)  2015-2019  count  \n",
       "41               2019 Owner Households REL (ACS 5-Yr)  2015-2019  count  \n",
       "\n",
       "[18399 rows x 8 columns]"
      ]
     },
     "execution_count": 11,
     "metadata": {},
     "output_type": "execute_result"
    }
   ],
   "source": [
    "usa_gis.variables"
   ]
  },
  {
   "cell_type": "markdown",
   "metadata": {
    "slideshow": {
     "slide_type": "slide"
    },
    "tags": []
   },
   "source": [
    "## Selecting Variables for Enrichment\n",
    "\n",
    "Since a Pandas DataFrame, this facilitates quick discovery of different variable combinations based on analysis needs."
   ]
  },
  {
   "cell_type": "markdown",
   "metadata": {
    "slideshow": {
     "slide_type": "slide"
    },
    "tags": []
   },
   "source": [
    "### Unique Variables\n",
    "\n",
    "Since variables can be repeated due to being used in multiple Data Collections, we can easily remove duplicates using the functionality of the DataFrame."
   ]
  },
  {
   "cell_type": "code",
   "execution_count": 12,
   "metadata": {
    "slideshow": {
     "slide_type": "fragment"
    },
    "tags": []
   },
   "outputs": [
    {
     "data": {
      "text/html": [
       "<div>\n",
       "<style scoped>\n",
       "    .dataframe tbody tr th:only-of-type {\n",
       "        vertical-align: middle;\n",
       "    }\n",
       "\n",
       "    .dataframe tbody tr th {\n",
       "        vertical-align: top;\n",
       "    }\n",
       "\n",
       "    .dataframe thead th {\n",
       "        text-align: right;\n",
       "    }\n",
       "</style>\n",
       "<table border=\"1\" class=\"dataframe\">\n",
       "  <thead>\n",
       "    <tr style=\"text-align: right;\">\n",
       "      <th></th>\n",
       "      <th>name</th>\n",
       "      <th>alias</th>\n",
       "      <th>data_collection</th>\n",
       "      <th>enrich_name</th>\n",
       "      <th>enrich_field_name</th>\n",
       "    </tr>\n",
       "  </thead>\n",
       "  <tbody>\n",
       "    <tr>\n",
       "      <th>0</th>\n",
       "      <td>CHILD_CY</td>\n",
       "      <td>2020 Child Population</td>\n",
       "      <td>AgeDependency</td>\n",
       "      <td>AgeDependency.CHILD_CY</td>\n",
       "      <td>AgeDependency_CHILD_CY</td>\n",
       "    </tr>\n",
       "    <tr>\n",
       "      <th>1</th>\n",
       "      <td>WORKAGE_CY</td>\n",
       "      <td>2020 Working-Age Population</td>\n",
       "      <td>AgeDependency</td>\n",
       "      <td>AgeDependency.WORKAGE_CY</td>\n",
       "      <td>AgeDependency_WORKAGE_CY</td>\n",
       "    </tr>\n",
       "    <tr>\n",
       "      <th>2</th>\n",
       "      <td>SENIOR_CY</td>\n",
       "      <td>2020 Senior Population</td>\n",
       "      <td>AgeDependency</td>\n",
       "      <td>AgeDependency.SENIOR_CY</td>\n",
       "      <td>AgeDependency_SENIOR_CY</td>\n",
       "    </tr>\n",
       "    <tr>\n",
       "      <th>3</th>\n",
       "      <td>CHLDDEP_CY</td>\n",
       "      <td>2020 Child Dependency Ratio</td>\n",
       "      <td>AgeDependency</td>\n",
       "      <td>AgeDependency.CHLDDEP_CY</td>\n",
       "      <td>AgeDependency_CHLDDEP_CY</td>\n",
       "    </tr>\n",
       "    <tr>\n",
       "      <th>4</th>\n",
       "      <td>AGEDEP_CY</td>\n",
       "      <td>2020 Age Dependency Ratio</td>\n",
       "      <td>AgeDependency</td>\n",
       "      <td>AgeDependency.AGEDEP_CY</td>\n",
       "      <td>AgeDependency_AGEDEP_CY</td>\n",
       "    </tr>\n",
       "    <tr>\n",
       "      <th>...</th>\n",
       "      <td>...</td>\n",
       "      <td>...</td>\n",
       "      <td>...</td>\n",
       "      <td>...</td>\n",
       "      <td>...</td>\n",
       "    </tr>\n",
       "    <tr>\n",
       "      <th>14660</th>\n",
       "      <td>RELRMV1989</td>\n",
       "      <td>2018 RHHs/Moved In: 1989/Before REL (ACS 5-Yr)</td>\n",
       "      <td>yearmovedin</td>\n",
       "      <td>yearmovedin.RELRMV1989</td>\n",
       "      <td>yearmovedin_RELRMV1989</td>\n",
       "    </tr>\n",
       "    <tr>\n",
       "      <th>14661</th>\n",
       "      <td>ACSMEDYRMV</td>\n",
       "      <td>2018 Median Year Householder Moved In (ACS 5-Yr)</td>\n",
       "      <td>yearmovedin</td>\n",
       "      <td>yearmovedin.ACSMEDYRMV</td>\n",
       "      <td>yearmovedin_ACSMEDYRMV</td>\n",
       "    </tr>\n",
       "    <tr>\n",
       "      <th>14662</th>\n",
       "      <td>MOEMEDYRMV</td>\n",
       "      <td>2018 Median Year Householder Moved In MOE (ACS...</td>\n",
       "      <td>yearmovedin</td>\n",
       "      <td>yearmovedin.MOEMEDYRMV</td>\n",
       "      <td>yearmovedin_MOEMEDYRMV</td>\n",
       "    </tr>\n",
       "    <tr>\n",
       "      <th>14663</th>\n",
       "      <td>RELMEDYRMV</td>\n",
       "      <td>2018 Median Year Householder Moved In REL (ACS...</td>\n",
       "      <td>yearmovedin</td>\n",
       "      <td>yearmovedin.RELMEDYRMV</td>\n",
       "      <td>yearmovedin_RELMEDYRMV</td>\n",
       "    </tr>\n",
       "    <tr>\n",
       "      <th>14664</th>\n",
       "      <td>RELOWNER</td>\n",
       "      <td>2018 Owner Households REL (ACS 5-Yr)</td>\n",
       "      <td>yearmovedin</td>\n",
       "      <td>yearmovedin.RELOWNER</td>\n",
       "      <td>yearmovedin_RELOWNER</td>\n",
       "    </tr>\n",
       "  </tbody>\n",
       "</table>\n",
       "<p>14665 rows × 5 columns</p>\n",
       "</div>"
      ],
      "text/plain": [
       "             name                                              alias  \\\n",
       "0        CHILD_CY                              2020 Child Population   \n",
       "1      WORKAGE_CY                        2020 Working-Age Population   \n",
       "2       SENIOR_CY                             2020 Senior Population   \n",
       "3      CHLDDEP_CY                        2020 Child Dependency Ratio   \n",
       "4       AGEDEP_CY                          2020 Age Dependency Ratio   \n",
       "...           ...                                                ...   \n",
       "14660  RELRMV1989     2018 RHHs/Moved In: 1989/Before REL (ACS 5-Yr)   \n",
       "14661  ACSMEDYRMV   2018 Median Year Householder Moved In (ACS 5-Yr)   \n",
       "14662  MOEMEDYRMV  2018 Median Year Householder Moved In MOE (ACS...   \n",
       "14663  RELMEDYRMV  2018 Median Year Householder Moved In REL (ACS...   \n",
       "14664    RELOWNER               2018 Owner Households REL (ACS 5-Yr)   \n",
       "\n",
       "      data_collection               enrich_name         enrich_field_name  \n",
       "0       AgeDependency    AgeDependency.CHILD_CY    AgeDependency_CHILD_CY  \n",
       "1       AgeDependency  AgeDependency.WORKAGE_CY  AgeDependency_WORKAGE_CY  \n",
       "2       AgeDependency   AgeDependency.SENIOR_CY   AgeDependency_SENIOR_CY  \n",
       "3       AgeDependency  AgeDependency.CHLDDEP_CY  AgeDependency_CHLDDEP_CY  \n",
       "4       AgeDependency   AgeDependency.AGEDEP_CY   AgeDependency_AGEDEP_CY  \n",
       "...               ...                       ...                       ...  \n",
       "14660     yearmovedin    yearmovedin.RELRMV1989    yearmovedin_RELRMV1989  \n",
       "14661     yearmovedin    yearmovedin.ACSMEDYRMV    yearmovedin_ACSMEDYRMV  \n",
       "14662     yearmovedin    yearmovedin.MOEMEDYRMV    yearmovedin_MOEMEDYRMV  \n",
       "14663     yearmovedin    yearmovedin.RELMEDYRMV    yearmovedin_RELMEDYRMV  \n",
       "14664     yearmovedin      yearmovedin.RELOWNER      yearmovedin_RELOWNER  \n",
       "\n",
       "[14665 rows x 5 columns]"
      ]
     },
     "execution_count": 12,
     "metadata": {},
     "output_type": "execute_result"
    }
   ],
   "source": [
    "uniq_df = usa_lcl.variables.drop_duplicates('name').reset_index(drop=True)\n",
    "\n",
    "uniq_df"
   ]
  },
  {
   "cell_type": "markdown",
   "metadata": {
    "slideshow": {
     "slide_type": "slide"
    },
    "tags": []
   },
   "source": [
    "### Unique Current Year Variables\n",
    "\n",
    "One of the things I like to do is grab all the current year demographics. Due to the naming convention, all of these variables' names end with `CY`. This enables us to quickly find them."
   ]
  },
  {
   "cell_type": "code",
   "execution_count": 19,
   "metadata": {
    "slideshow": {
     "slide_type": "fragment"
    },
    "tags": []
   },
   "outputs": [
    {
     "data": {
      "text/html": [
       "<div>\n",
       "<style scoped>\n",
       "    .dataframe tbody tr th:only-of-type {\n",
       "        vertical-align: middle;\n",
       "    }\n",
       "\n",
       "    .dataframe tbody tr th {\n",
       "        vertical-align: top;\n",
       "    }\n",
       "\n",
       "    .dataframe thead th {\n",
       "        text-align: right;\n",
       "    }\n",
       "</style>\n",
       "<table border=\"1\" class=\"dataframe\">\n",
       "  <thead>\n",
       "    <tr style=\"text-align: right;\">\n",
       "      <th></th>\n",
       "      <th>name</th>\n",
       "      <th>alias</th>\n",
       "      <th>data_collection</th>\n",
       "      <th>enrich_name</th>\n",
       "      <th>enrich_field_name</th>\n",
       "    </tr>\n",
       "  </thead>\n",
       "  <tbody>\n",
       "    <tr>\n",
       "      <th>0</th>\n",
       "      <td>CHILD_CY</td>\n",
       "      <td>2020 Child Population</td>\n",
       "      <td>AgeDependency</td>\n",
       "      <td>AgeDependency.CHILD_CY</td>\n",
       "      <td>AgeDependency_CHILD_CY</td>\n",
       "    </tr>\n",
       "    <tr>\n",
       "      <th>1</th>\n",
       "      <td>WORKAGE_CY</td>\n",
       "      <td>2020 Working-Age Population</td>\n",
       "      <td>AgeDependency</td>\n",
       "      <td>AgeDependency.WORKAGE_CY</td>\n",
       "      <td>AgeDependency_WORKAGE_CY</td>\n",
       "    </tr>\n",
       "    <tr>\n",
       "      <th>2</th>\n",
       "      <td>SENIOR_CY</td>\n",
       "      <td>2020 Senior Population</td>\n",
       "      <td>AgeDependency</td>\n",
       "      <td>AgeDependency.SENIOR_CY</td>\n",
       "      <td>AgeDependency_SENIOR_CY</td>\n",
       "    </tr>\n",
       "    <tr>\n",
       "      <th>3</th>\n",
       "      <td>CHLDDEP_CY</td>\n",
       "      <td>2020 Child Dependency Ratio</td>\n",
       "      <td>AgeDependency</td>\n",
       "      <td>AgeDependency.CHLDDEP_CY</td>\n",
       "      <td>AgeDependency_CHLDDEP_CY</td>\n",
       "    </tr>\n",
       "    <tr>\n",
       "      <th>4</th>\n",
       "      <td>AGEDEP_CY</td>\n",
       "      <td>2020 Age Dependency Ratio</td>\n",
       "      <td>AgeDependency</td>\n",
       "      <td>AgeDependency.AGEDEP_CY</td>\n",
       "      <td>AgeDependency_AGEDEP_CY</td>\n",
       "    </tr>\n",
       "    <tr>\n",
       "      <th>...</th>\n",
       "      <td>...</td>\n",
       "      <td>...</td>\n",
       "      <td>...</td>\n",
       "      <td>...</td>\n",
       "      <td>...</td>\n",
       "    </tr>\n",
       "    <tr>\n",
       "      <th>1318</th>\n",
       "      <td>NHSPASN_CY</td>\n",
       "      <td>2020 Non-Hispanic Asian Pop</td>\n",
       "      <td>raceandhispanicorigin</td>\n",
       "      <td>raceandhispanicorigin.NHSPASN_CY</td>\n",
       "      <td>raceandhispanicorigin_NHSPASN_CY</td>\n",
       "    </tr>\n",
       "    <tr>\n",
       "      <th>1319</th>\n",
       "      <td>NHSPPI_CY</td>\n",
       "      <td>2020 Non-Hispanic Pacific Islander Pop</td>\n",
       "      <td>raceandhispanicorigin</td>\n",
       "      <td>raceandhispanicorigin.NHSPPI_CY</td>\n",
       "      <td>raceandhispanicorigin_NHSPPI_CY</td>\n",
       "    </tr>\n",
       "    <tr>\n",
       "      <th>1320</th>\n",
       "      <td>NHSPOTH_CY</td>\n",
       "      <td>2020 Non-Hispanic Other Race Pop</td>\n",
       "      <td>raceandhispanicorigin</td>\n",
       "      <td>raceandhispanicorigin.NHSPOTH_CY</td>\n",
       "      <td>raceandhispanicorigin_NHSPOTH_CY</td>\n",
       "    </tr>\n",
       "    <tr>\n",
       "      <th>1321</th>\n",
       "      <td>NHSPMLT_CY</td>\n",
       "      <td>2020 Non-Hispanic Multiple Race Pop</td>\n",
       "      <td>raceandhispanicorigin</td>\n",
       "      <td>raceandhispanicorigin.NHSPMLT_CY</td>\n",
       "      <td>raceandhispanicorigin_NHSPMLT_CY</td>\n",
       "    </tr>\n",
       "    <tr>\n",
       "      <th>1322</th>\n",
       "      <td>WLTHINDXCY</td>\n",
       "      <td>2020 Wealth Index</td>\n",
       "      <td>Wealth</td>\n",
       "      <td>Wealth.WLTHINDXCY</td>\n",
       "      <td>Wealth_WLTHINDXCY</td>\n",
       "    </tr>\n",
       "  </tbody>\n",
       "</table>\n",
       "<p>1323 rows × 5 columns</p>\n",
       "</div>"
      ],
      "text/plain": [
       "            name                                   alias  \\\n",
       "0       CHILD_CY                   2020 Child Population   \n",
       "1     WORKAGE_CY             2020 Working-Age Population   \n",
       "2      SENIOR_CY                  2020 Senior Population   \n",
       "3     CHLDDEP_CY             2020 Child Dependency Ratio   \n",
       "4      AGEDEP_CY               2020 Age Dependency Ratio   \n",
       "...          ...                                     ...   \n",
       "1318  NHSPASN_CY             2020 Non-Hispanic Asian Pop   \n",
       "1319   NHSPPI_CY  2020 Non-Hispanic Pacific Islander Pop   \n",
       "1320  NHSPOTH_CY        2020 Non-Hispanic Other Race Pop   \n",
       "1321  NHSPMLT_CY     2020 Non-Hispanic Multiple Race Pop   \n",
       "1322  WLTHINDXCY                       2020 Wealth Index   \n",
       "\n",
       "            data_collection                       enrich_name  \\\n",
       "0             AgeDependency            AgeDependency.CHILD_CY   \n",
       "1             AgeDependency          AgeDependency.WORKAGE_CY   \n",
       "2             AgeDependency           AgeDependency.SENIOR_CY   \n",
       "3             AgeDependency          AgeDependency.CHLDDEP_CY   \n",
       "4             AgeDependency           AgeDependency.AGEDEP_CY   \n",
       "...                     ...                               ...   \n",
       "1318  raceandhispanicorigin  raceandhispanicorigin.NHSPASN_CY   \n",
       "1319  raceandhispanicorigin   raceandhispanicorigin.NHSPPI_CY   \n",
       "1320  raceandhispanicorigin  raceandhispanicorigin.NHSPOTH_CY   \n",
       "1321  raceandhispanicorigin  raceandhispanicorigin.NHSPMLT_CY   \n",
       "1322                 Wealth                 Wealth.WLTHINDXCY   \n",
       "\n",
       "                     enrich_field_name  \n",
       "0               AgeDependency_CHILD_CY  \n",
       "1             AgeDependency_WORKAGE_CY  \n",
       "2              AgeDependency_SENIOR_CY  \n",
       "3             AgeDependency_CHLDDEP_CY  \n",
       "4              AgeDependency_AGEDEP_CY  \n",
       "...                                ...  \n",
       "1318  raceandhispanicorigin_NHSPASN_CY  \n",
       "1319   raceandhispanicorigin_NHSPPI_CY  \n",
       "1320  raceandhispanicorigin_NHSPOTH_CY  \n",
       "1321  raceandhispanicorigin_NHSPMLT_CY  \n",
       "1322                 Wealth_WLTHINDXCY  \n",
       "\n",
       "[1323 rows x 5 columns]"
      ]
     },
     "execution_count": 19,
     "metadata": {},
     "output_type": "execute_result"
    }
   ],
   "source": [
    "cy_df = uniq_df[uniq_df['name'].str.endswith('CY')].drop_duplicates('name').reset_index(drop=True)\n",
    "\n",
    "cy_df"
   ]
  },
  {
   "cell_type": "markdown",
   "metadata": {
    "slideshow": {
     "slide_type": "slide"
    },
    "tags": []
   },
   "source": [
    "### Current Year Sample Variables\n",
    "\n",
    "Frequently, when quickly demonstrating analysis ad-hoc, I take advantage of Data Collections to grab a few useful current year variables."
   ]
  },
  {
   "cell_type": "code",
   "execution_count": 18,
   "metadata": {
    "slideshow": {
     "slide_type": "fragment"
    },
    "tags": []
   },
   "outputs": [
    {
     "data": {
      "text/html": [
       "<div>\n",
       "<style scoped>\n",
       "    .dataframe tbody tr th:only-of-type {\n",
       "        vertical-align: middle;\n",
       "    }\n",
       "\n",
       "    .dataframe tbody tr th {\n",
       "        vertical-align: top;\n",
       "    }\n",
       "\n",
       "    .dataframe thead th {\n",
       "        text-align: right;\n",
       "    }\n",
       "</style>\n",
       "<table border=\"1\" class=\"dataframe\">\n",
       "  <thead>\n",
       "    <tr style=\"text-align: right;\">\n",
       "      <th></th>\n",
       "      <th>name</th>\n",
       "      <th>alias</th>\n",
       "      <th>data_collection</th>\n",
       "      <th>enrich_name</th>\n",
       "      <th>enrich_field_name</th>\n",
       "    </tr>\n",
       "  </thead>\n",
       "  <tbody>\n",
       "    <tr>\n",
       "      <th>0</th>\n",
       "      <td>TOTPOP_CY</td>\n",
       "      <td>2020 Total Population</td>\n",
       "      <td>KeyUSFacts</td>\n",
       "      <td>KeyUSFacts.TOTPOP_CY</td>\n",
       "      <td>KeyUSFacts_TOTPOP_CY</td>\n",
       "    </tr>\n",
       "    <tr>\n",
       "      <th>1</th>\n",
       "      <td>GQPOP_CY</td>\n",
       "      <td>2020 Group Quarters Population</td>\n",
       "      <td>KeyUSFacts</td>\n",
       "      <td>KeyUSFacts.GQPOP_CY</td>\n",
       "      <td>KeyUSFacts_GQPOP_CY</td>\n",
       "    </tr>\n",
       "    <tr>\n",
       "      <th>2</th>\n",
       "      <td>DIVINDX_CY</td>\n",
       "      <td>2020 Diversity Index</td>\n",
       "      <td>KeyUSFacts</td>\n",
       "      <td>KeyUSFacts.DIVINDX_CY</td>\n",
       "      <td>KeyUSFacts_DIVINDX_CY</td>\n",
       "    </tr>\n",
       "    <tr>\n",
       "      <th>3</th>\n",
       "      <td>TOTHH_CY</td>\n",
       "      <td>2020 Total Households</td>\n",
       "      <td>KeyUSFacts</td>\n",
       "      <td>KeyUSFacts.TOTHH_CY</td>\n",
       "      <td>KeyUSFacts_TOTHH_CY</td>\n",
       "    </tr>\n",
       "    <tr>\n",
       "      <th>4</th>\n",
       "      <td>AVGHHSZ_CY</td>\n",
       "      <td>2020 Average Household Size</td>\n",
       "      <td>KeyUSFacts</td>\n",
       "      <td>KeyUSFacts.AVGHHSZ_CY</td>\n",
       "      <td>KeyUSFacts_AVGHHSZ_CY</td>\n",
       "    </tr>\n",
       "    <tr>\n",
       "      <th>5</th>\n",
       "      <td>MEDHINC_CY</td>\n",
       "      <td>2020 Median Household Income</td>\n",
       "      <td>KeyUSFacts</td>\n",
       "      <td>KeyUSFacts.MEDHINC_CY</td>\n",
       "      <td>KeyUSFacts_MEDHINC_CY</td>\n",
       "    </tr>\n",
       "    <tr>\n",
       "      <th>6</th>\n",
       "      <td>AVGHINC_CY</td>\n",
       "      <td>2020 Average Household Income</td>\n",
       "      <td>KeyUSFacts</td>\n",
       "      <td>KeyUSFacts.AVGHINC_CY</td>\n",
       "      <td>KeyUSFacts_AVGHINC_CY</td>\n",
       "    </tr>\n",
       "    <tr>\n",
       "      <th>7</th>\n",
       "      <td>PCI_CY</td>\n",
       "      <td>2020 Per Capita Income</td>\n",
       "      <td>KeyUSFacts</td>\n",
       "      <td>KeyUSFacts.PCI_CY</td>\n",
       "      <td>KeyUSFacts_PCI_CY</td>\n",
       "    </tr>\n",
       "    <tr>\n",
       "      <th>8</th>\n",
       "      <td>TOTHU_CY</td>\n",
       "      <td>2020 Total Housing Units</td>\n",
       "      <td>KeyUSFacts</td>\n",
       "      <td>KeyUSFacts.TOTHU_CY</td>\n",
       "      <td>KeyUSFacts_TOTHU_CY</td>\n",
       "    </tr>\n",
       "    <tr>\n",
       "      <th>9</th>\n",
       "      <td>OWNER_CY</td>\n",
       "      <td>2020 Owner Occupied HUs</td>\n",
       "      <td>KeyUSFacts</td>\n",
       "      <td>KeyUSFacts.OWNER_CY</td>\n",
       "      <td>KeyUSFacts_OWNER_CY</td>\n",
       "    </tr>\n",
       "    <tr>\n",
       "      <th>10</th>\n",
       "      <td>RENTER_CY</td>\n",
       "      <td>2020 Renter Occupied HUs</td>\n",
       "      <td>KeyUSFacts</td>\n",
       "      <td>KeyUSFacts.RENTER_CY</td>\n",
       "      <td>KeyUSFacts_RENTER_CY</td>\n",
       "    </tr>\n",
       "    <tr>\n",
       "      <th>11</th>\n",
       "      <td>VACANT_CY</td>\n",
       "      <td>2020 Vacant Housing Units</td>\n",
       "      <td>KeyUSFacts</td>\n",
       "      <td>KeyUSFacts.VACANT_CY</td>\n",
       "      <td>KeyUSFacts_VACANT_CY</td>\n",
       "    </tr>\n",
       "    <tr>\n",
       "      <th>12</th>\n",
       "      <td>MEDVAL_CY</td>\n",
       "      <td>2020 Median Home Value</td>\n",
       "      <td>KeyUSFacts</td>\n",
       "      <td>KeyUSFacts.MEDVAL_CY</td>\n",
       "      <td>KeyUSFacts_MEDVAL_CY</td>\n",
       "    </tr>\n",
       "    <tr>\n",
       "      <th>13</th>\n",
       "      <td>AVGVAL_CY</td>\n",
       "      <td>2020 Average Home Value</td>\n",
       "      <td>KeyUSFacts</td>\n",
       "      <td>KeyUSFacts.AVGVAL_CY</td>\n",
       "      <td>KeyUSFacts_AVGVAL_CY</td>\n",
       "    </tr>\n",
       "    <tr>\n",
       "      <th>14</th>\n",
       "      <td>POPGRW10CY</td>\n",
       "      <td>2010-2020 Growth Rate: Population</td>\n",
       "      <td>KeyUSFacts</td>\n",
       "      <td>KeyUSFacts.POPGRW10CY</td>\n",
       "      <td>KeyUSFacts_POPGRW10CY</td>\n",
       "    </tr>\n",
       "    <tr>\n",
       "      <th>15</th>\n",
       "      <td>HHGRW10CY</td>\n",
       "      <td>2010-2020 Growth Rate: Households</td>\n",
       "      <td>KeyUSFacts</td>\n",
       "      <td>KeyUSFacts.HHGRW10CY</td>\n",
       "      <td>KeyUSFacts_HHGRW10CY</td>\n",
       "    </tr>\n",
       "    <tr>\n",
       "      <th>16</th>\n",
       "      <td>FAMGRW10CY</td>\n",
       "      <td>2010-2020 Growth Rate: Families</td>\n",
       "      <td>KeyUSFacts</td>\n",
       "      <td>KeyUSFacts.FAMGRW10CY</td>\n",
       "      <td>KeyUSFacts_FAMGRW10CY</td>\n",
       "    </tr>\n",
       "    <tr>\n",
       "      <th>17</th>\n",
       "      <td>DPOP_CY</td>\n",
       "      <td>2020 Total Daytime Population</td>\n",
       "      <td>KeyUSFacts</td>\n",
       "      <td>KeyUSFacts.DPOP_CY</td>\n",
       "      <td>KeyUSFacts_DPOP_CY</td>\n",
       "    </tr>\n",
       "    <tr>\n",
       "      <th>18</th>\n",
       "      <td>DPOPWRK_CY</td>\n",
       "      <td>2020 Daytime Pop: Workers</td>\n",
       "      <td>KeyUSFacts</td>\n",
       "      <td>KeyUSFacts.DPOPWRK_CY</td>\n",
       "      <td>KeyUSFacts_DPOPWRK_CY</td>\n",
       "    </tr>\n",
       "    <tr>\n",
       "      <th>19</th>\n",
       "      <td>DPOPRES_CY</td>\n",
       "      <td>2020 Daytime Pop: Residents</td>\n",
       "      <td>KeyUSFacts</td>\n",
       "      <td>KeyUSFacts.DPOPRES_CY</td>\n",
       "      <td>KeyUSFacts_DPOPRES_CY</td>\n",
       "    </tr>\n",
       "  </tbody>\n",
       "</table>\n",
       "</div>"
      ],
      "text/plain": [
       "          name                              alias data_collection  \\\n",
       "0    TOTPOP_CY              2020 Total Population      KeyUSFacts   \n",
       "1     GQPOP_CY     2020 Group Quarters Population      KeyUSFacts   \n",
       "2   DIVINDX_CY               2020 Diversity Index      KeyUSFacts   \n",
       "3     TOTHH_CY              2020 Total Households      KeyUSFacts   \n",
       "4   AVGHHSZ_CY        2020 Average Household Size      KeyUSFacts   \n",
       "5   MEDHINC_CY       2020 Median Household Income      KeyUSFacts   \n",
       "6   AVGHINC_CY      2020 Average Household Income      KeyUSFacts   \n",
       "7       PCI_CY             2020 Per Capita Income      KeyUSFacts   \n",
       "8     TOTHU_CY           2020 Total Housing Units      KeyUSFacts   \n",
       "9     OWNER_CY            2020 Owner Occupied HUs      KeyUSFacts   \n",
       "10   RENTER_CY           2020 Renter Occupied HUs      KeyUSFacts   \n",
       "11   VACANT_CY          2020 Vacant Housing Units      KeyUSFacts   \n",
       "12   MEDVAL_CY             2020 Median Home Value      KeyUSFacts   \n",
       "13   AVGVAL_CY            2020 Average Home Value      KeyUSFacts   \n",
       "14  POPGRW10CY  2010-2020 Growth Rate: Population      KeyUSFacts   \n",
       "15   HHGRW10CY  2010-2020 Growth Rate: Households      KeyUSFacts   \n",
       "16  FAMGRW10CY    2010-2020 Growth Rate: Families      KeyUSFacts   \n",
       "17     DPOP_CY      2020 Total Daytime Population      KeyUSFacts   \n",
       "18  DPOPWRK_CY          2020 Daytime Pop: Workers      KeyUSFacts   \n",
       "19  DPOPRES_CY        2020 Daytime Pop: Residents      KeyUSFacts   \n",
       "\n",
       "              enrich_name      enrich_field_name  \n",
       "0    KeyUSFacts.TOTPOP_CY   KeyUSFacts_TOTPOP_CY  \n",
       "1     KeyUSFacts.GQPOP_CY    KeyUSFacts_GQPOP_CY  \n",
       "2   KeyUSFacts.DIVINDX_CY  KeyUSFacts_DIVINDX_CY  \n",
       "3     KeyUSFacts.TOTHH_CY    KeyUSFacts_TOTHH_CY  \n",
       "4   KeyUSFacts.AVGHHSZ_CY  KeyUSFacts_AVGHHSZ_CY  \n",
       "5   KeyUSFacts.MEDHINC_CY  KeyUSFacts_MEDHINC_CY  \n",
       "6   KeyUSFacts.AVGHINC_CY  KeyUSFacts_AVGHINC_CY  \n",
       "7       KeyUSFacts.PCI_CY      KeyUSFacts_PCI_CY  \n",
       "8     KeyUSFacts.TOTHU_CY    KeyUSFacts_TOTHU_CY  \n",
       "9     KeyUSFacts.OWNER_CY    KeyUSFacts_OWNER_CY  \n",
       "10   KeyUSFacts.RENTER_CY   KeyUSFacts_RENTER_CY  \n",
       "11   KeyUSFacts.VACANT_CY   KeyUSFacts_VACANT_CY  \n",
       "12   KeyUSFacts.MEDVAL_CY   KeyUSFacts_MEDVAL_CY  \n",
       "13   KeyUSFacts.AVGVAL_CY   KeyUSFacts_AVGVAL_CY  \n",
       "14  KeyUSFacts.POPGRW10CY  KeyUSFacts_POPGRW10CY  \n",
       "15   KeyUSFacts.HHGRW10CY   KeyUSFacts_HHGRW10CY  \n",
       "16  KeyUSFacts.FAMGRW10CY  KeyUSFacts_FAMGRW10CY  \n",
       "17     KeyUSFacts.DPOP_CY     KeyUSFacts_DPOP_CY  \n",
       "18  KeyUSFacts.DPOPWRK_CY  KeyUSFacts_DPOPWRK_CY  \n",
       "19  KeyUSFacts.DPOPRES_CY  KeyUSFacts_DPOPRES_CY  "
      ]
     },
     "execution_count": 18,
     "metadata": {},
     "output_type": "execute_result"
    }
   ],
   "source": [
    "var_df = usa_lcl.variables\n",
    "\n",
    "smpl_df = var_df[\n",
    "    (var_df['name'].str.endswith('CY'))                  # current year\n",
    "    & (var_df['data_collection'].str.startswith('Key'))  # key variables\n",
    "].reset_index(drop=True)\n",
    "\n",
    "smpl_df"
   ]
  },
  {
   "cell_type": "markdown",
   "metadata": {
    "slideshow": {
     "slide_type": "slide"
    }
   },
   "source": [
    "## Enrichment\n",
    "\n",
    "There are two ways to access enrichment from Python. The ArcGIS Pro Geoprocessing Enrich Layer tool enables enrichment data using local resources. The Python API already includes a wrapper around the enrich REST endpoint to use a Web GIS. Each method requires the variable input in a slightly different format."
   ]
  },
  {
   "cell_type": "markdown",
   "metadata": {
    "slideshow": {
     "slide_type": "slide"
    },
    "tags": []
   },
   "source": [
    "### Local Enrichment\n",
    "\n",
    "Enrichment varialbes must be concantenated into a single semicolon separated string for input into the Enrich Layer Geoprocessing tool. This can be accommplished using a little string concantenation in Python."
   ]
  },
  {
   "cell_type": "code",
   "execution_count": 20,
   "metadata": {
    "slideshow": {
     "slide_type": "fragment"
    }
   },
   "outputs": [
    {
     "name": "stdout",
     "output_type": "stream",
     "text": [
      "KeyUSFacts.TOTPOP_CY;KeyUSFacts.GQPOP_CY;KeyUSFacts.DIVINDX_CY;KeyUSFacts.TOTHH_CY;KeyUSFacts.AVGHHSZ_CY;KeyUSFacts.MEDHINC_CY;KeyUSFacts.AVGHINC_CY;KeyUSFacts.PCI_CY;KeyUSFacts.TOTHU_CY;KeyUSFacts.OWNER_CY;KeyUSFacts.RENTER_CY;KeyUSFacts.VACANT_CY;KeyUSFacts.MEDVAL_CY;KeyUSFacts.AVGVAL_CY;KeyUSFacts.POPGRW10CY;KeyUSFacts.HHGRW10CY;KeyUSFacts.FAMGRW10CY;KeyUSFacts.DPOP_CY;KeyUSFacts.DPOPWRK_CY;KeyUSFacts.DPOPRES_CY\n"
     ]
    }
   ],
   "source": [
    "enrich_str = ';'.join(smpl_df.enrich_name)\n",
    "\n",
    "print(enrich_str)"
   ]
  },
  {
   "cell_type": "markdown",
   "metadata": {
    "slideshow": {
     "slide_type": "slide"
    },
    "tags": []
   },
   "source": [
    "### Web GIS Enrichment\n",
    "\n",
    "Enriching using the Python API calling the rest endpoint requires slightly different syntax, a semicolon separated list of variable names."
   ]
  },
  {
   "cell_type": "code",
   "execution_count": 21,
   "metadata": {
    "slideshow": {
     "slide_type": "fragment"
    },
    "tags": []
   },
   "outputs": [
    {
     "name": "stdout",
     "output_type": "stream",
     "text": [
      "TOTPOP_CY;GQPOP_CY;DIVINDX_CY;TOTHH_CY;AVGHHSZ_CY;MEDHINC_CY;AVGHINC_CY;PCI_CY;TOTHU_CY;OWNER_CY;RENTER_CY;VACANT_CY;MEDVAL_CY;AVGVAL_CY;POPGRW10CY;HHGRW10CY;FAMGRW10CY;DPOP_CY;DPOPWRK_CY;DPOPRES_CY\n"
     ]
    }
   ],
   "source": [
    "enrich_str = ';'.join(smpl_df.name)\n",
    "\n",
    "print(enrich_str)"
   ]
  },
  {
   "cell_type": "markdown",
   "metadata": {
    "slideshow": {
     "slide_type": "slide"
    }
   },
   "source": [
    "## Next Step - Enrich Method\n",
    "\n",
    "The next step is adding `enrich` method to support both local and remote resources, and handle the variable introspection dataframes as input. This enables a single workflow for discovering what data is available and retrieving the data whether the data is being retrieved from a local or Web GIS source."
   ]
  },
  {
   "cell_type": "code",
   "execution_count": null,
   "metadata": {
    "slideshow": {
     "slide_type": "fragment"
    },
    "tags": []
   },
   "outputs": [],
   "source": [
    "# this does not run, but will soon...\n",
    "in_pth = 'C:/path/to/data.gdb/features'\n",
    "in_df = pd.DataFrame.spatial.from_featureclass(in_pth)\n",
    "\n",
    "# local enrichment\n",
    "enrich_lcl_df = usa_lcl.enrich(in_df, key_vars)\n",
    "\n",
    "# web gis enrichment\n",
    "enrich_gis_df = usa_gis.enrich(in_df, key_vars)"
   ]
  }
 ],
 "metadata": {
  "kernelspec": {
   "display_name": "Python 3",
   "language": "python",
   "name": "python3"
  },
  "language_info": {
   "codemirror_mode": {
    "name": "ipython",
    "version": 3
   },
   "file_extension": ".py",
   "mimetype": "text/x-python",
   "name": "python",
   "nbconvert_exporter": "python",
   "pygments_lexer": "ipython3",
   "version": "3.7.10"
  }
 },
 "nbformat": 4,
 "nbformat_minor": 4
}
